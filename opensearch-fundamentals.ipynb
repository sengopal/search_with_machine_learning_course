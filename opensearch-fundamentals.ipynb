{
 "cells": [
  {
   "cell_type": "code",
   "execution_count": 1,
   "outputs": [
    {
     "name": "stdout",
     "output_type": "stream",
     "text": [
      "1655773644 01:07:24 docker-cluster yellow 1 1 true 5 5 0 0 2 0 - 71.4%\n",
      "\n",
      "green  open .kibana_92668751_admin_1     Rkf9tUKPQs-ZmF1m4jdVXg 1 0  1 0     5kb     5kb\n",
      "yellow open search_fun_test              Dh7VpHvqRyWIZefdp2jFMA 1 1  1 0   5.4kb   5.4kb\n",
      "green  open .opendistro_security         8pHwERl5T9W39_Qs3_r5bw 1 0  9 0  59.9kb  59.9kb\n",
      "green  open .kibana_1                    Nj21asyETpCxUSKopgCwXg 1 0  0 0    208b    208b\n",
      "yellow open security-auditlog-2022.06.21 X9zP8UIrSTC2yrcvfV3uMA 1 1 53 0 160.2kb 160.2kb\n",
      "\n",
      "epoch      timestamp count\n",
      "1655773644 01:07:24  1\n",
      "\n"
     ]
    }
   ],
   "source": [
    "from opensearchpy import OpenSearch\n",
    "import json\n",
    "host = 'localhost'\n",
    "port = 9200\n",
    "auth = ('admin', 'admin') # For testing only. Don't store credentials in code.\n",
    "\n",
    "client = OpenSearch(\n",
    "    hosts = [{'host': host, 'port': port}],\n",
    "    http_compress = True,\n",
    "    http_auth = auth,\n",
    "    use_ssl = True,\n",
    "    verify_certs = False,\n",
    "    ssl_assert_hostname = False,\n",
    "    ssl_show_warn = False,\n",
    ")\n",
    "\n",
    "print(client.cat.health())\n",
    "print(client.cat.indices())\n",
    "\n",
    "print(client.cat.count(\"search_fun_test\", params={\"v\":\"true\"}))"
   ],
   "metadata": {
    "collapsed": false,
    "pycharm": {
     "name": "#%%\n"
    }
   }
  },
  {
   "cell_type": "code",
   "execution_count": 2,
   "outputs": [
    {
     "name": "stdout",
     "output_type": "stream",
     "text": [
      ".kibana                .kibana_1                - - - -\n",
      ".kibana_92668751_admin .kibana_92668751_admin_1 - - - -\n",
      "\n"
     ]
    }
   ],
   "source": [
    "## Compact and aligned text (CAT) API - https://opensearch.org/docs/latest/opensearch/rest-api/cat/index/\n",
    "print(client.cat.aliases())"
   ],
   "metadata": {
    "collapsed": false,
    "pycharm": {
     "name": "#%%\n"
    }
   }
  },
  {
   "cell_type": "code",
   "execution_count": 3,
   "outputs": [
    {
     "name": "stdout",
     "output_type": "stream",
     "text": [
      ".opendistro_security         0 p STARTED     9  59.9kb 172.18.0.2 93d0236d0594\n",
      ".kibana_92668751_admin_1     0 p STARTED     1     5kb 172.18.0.2 93d0236d0594\n",
      ".kibana_1                    0 p STARTED     0    208b 172.18.0.2 93d0236d0594\n",
      "security-auditlog-2022.06.21 0 p STARTED    54 174.6kb 172.18.0.2 93d0236d0594\n",
      "security-auditlog-2022.06.21 0 r UNASSIGNED                       \n",
      "search_fun_test              0 p STARTED     1   5.4kb 172.18.0.2 93d0236d0594\n",
      "search_fun_test              0 r UNASSIGNED                       \n",
      "\n"
     ]
    }
   ],
   "source": [
    "print(client.cat.shards())"
   ],
   "metadata": {
    "collapsed": false,
    "pycharm": {
     "name": "#%%\n"
    }
   }
  },
  {
   "cell_type": "code",
   "execution_count": 4,
   "outputs": [
    {
     "name": "stdout",
     "output_type": "stream",
     "text": [
      "172.18.0.2 4 98 0 0.00 0.02 0.06 dimr * 93d0236d0594\n",
      "\n"
     ]
    }
   ],
   "source": [
    "print(client.cat.nodes())"
   ],
   "metadata": {
    "collapsed": false,
    "pycharm": {
     "name": "#%%\n"
    }
   }
  },
  {
   "cell_type": "code",
   "execution_count": 5,
   "outputs": [],
   "source": [
    "## https://elasticsearch-py.readthedocs.io/en/v7.10.1/api.html?highlight=cat.#elasticsearch.client.CatClient.help"
   ],
   "metadata": {
    "collapsed": false,
    "pycharm": {
     "name": "#%%\n"
    }
   }
  },
  {
   "cell_type": "code",
   "execution_count": 6,
   "outputs": [
    {
     "name": "stdout",
     "output_type": "stream",
     "text": [
      "\n",
      "Creating index:\n",
      "{'acknowledged': True, 'shards_acknowledged': True, 'index': 'search_fun_revisited'}\n"
     ]
    }
   ],
   "source": [
    "# Create an Index\n",
    "# Create an index with non-default settings.\n",
    "index_name = 'search_fun_revisited'\n",
    "index_body = {\n",
    "  'settings': {\n",
    "    'index': {\n",
    "      'query':{\n",
    "          'default_field': \"body\"\n",
    "      }\n",
    "    }\n",
    "  }\n",
    "}\n",
    "\n",
    "response = client.indices.create(index_name, body=index_body)\n",
    "print('\\nCreating index:')\n",
    "print(response)"
   ],
   "metadata": {
    "collapsed": false,
    "pycharm": {
     "name": "#%%\n"
    }
   }
  },
  {
   "cell_type": "code",
   "execution_count": 7,
   "outputs": [
    {
     "name": "stdout",
     "output_type": "stream",
     "text": [
      "Indexing doc_a\n",
      "\n",
      "\tResponse:\n",
      "{'_index': 'search_fun_revisited', '_type': '_doc', '_id': 'doc_a', '_version': 1, 'result': 'created', 'forced_refresh': True, '_shards': {'total': 2, 'successful': 1, 'failed': 0}, '_seq_no': 0, '_primary_term': 1}\n",
      "Indexing doc_b\n",
      "\n",
      "\tResponse:\n",
      "{'_index': 'search_fun_revisited', '_type': '_doc', '_id': 'doc_b', '_version': 1, 'result': 'created', 'forced_refresh': True, '_shards': {'total': 2, 'successful': 1, 'failed': 0}, '_seq_no': 1, '_primary_term': 1}\n",
      "Indexing doc_c\n",
      "\n",
      "\tResponse:\n",
      "{'_index': 'search_fun_revisited', '_type': '_doc', '_id': 'doc_c', '_version': 1, 'result': 'created', 'forced_refresh': True, '_shards': {'total': 2, 'successful': 1, 'failed': 0}, '_seq_no': 2, '_primary_term': 1}\n",
      "Indexing doc_d\n",
      "\n",
      "\tResponse:\n",
      "{'_index': 'search_fun_revisited', '_type': '_doc', '_id': 'doc_d', '_version': 1, 'result': 'created', 'forced_refresh': True, '_shards': {'total': 2, 'successful': 1, 'failed': 0}, '_seq_no': 3, '_primary_term': 1}\n",
      "epoch      timestamp count\n",
      "1655773687 01:08:07  4\n",
      "\n"
     ]
    }
   ],
   "source": [
    "# Add our sample document to the index.\n",
    "docs = [\n",
    "    {\n",
    "        \"id\": \"doc_a\",\n",
    "        \"title\": \"Fox and Hounds\",\n",
    "        \"body\": \"The quick red fox jumped over the lazy brown dogs.\",\n",
    "        \"price\": \"5.99\",\n",
    "        \"in_stock\": True,\n",
    "        \"category\": \"childrens\"},\n",
    "    {\n",
    "        \"id\": \"doc_b\",\n",
    "        \"title\": \"Fox wins championship\",\n",
    "        \"body\": \"Wearing all red, the Fox jumped out to a lead in the race over the Dog.\",\n",
    "        \"price\": \"15.13\",\n",
    "        \"in_stock\": True,\n",
    "        \"category\": \"sports\"},\n",
    "    {\n",
    "        \"id\": \"doc_c\",\n",
    "        \"title\": \"Lead Paint Removal\",\n",
    "        \"body\": \"All lead must be removed from the brown and red paint.\",\n",
    "        \"price\": \"150.21\",\n",
    "        \"in_stock\": False,\n",
    "        \"category\": \"instructional\"},\n",
    "    {\n",
    "        \"id\": \"doc_d\",\n",
    "        \"title\": \"The Three Little Pigs Revisted\",\n",
    "        \"price\": \"3.51\",\n",
    "        \"in_stock\": True,\n",
    "        \"body\": \"The big, bad wolf huffed and puffed and blew the house down. The end.\",\n",
    "        \"category\": \"childrens\"}\n",
    "]\n",
    "\n",
    "for doc in docs:\n",
    "    doc_id = doc[\"id\"]\n",
    "    print(\"Indexing {}\".format(doc_id))\n",
    "    response = client.index(\n",
    "        index=index_name,\n",
    "        body=doc,\n",
    "        id=doc_id,\n",
    "        refresh=True\n",
    "    )\n",
    "    print('\\n\\tResponse:')\n",
    "    print(response)\n",
    "\n",
    "# Verify they are in:\n",
    "print(client.cat.count(index_name, params={\"v\": \"true\"}))"
   ],
   "metadata": {
    "collapsed": false,
    "pycharm": {
     "name": "#%%\n"
    }
   }
  },
  {
   "cell_type": "code",
   "execution_count": 8,
   "outputs": [
    {
     "name": "stdout",
     "output_type": "stream",
     "text": [
      "Indexing doc_a\n",
      "\n",
      "\tResponse:\n",
      "{'_index': 'search_fun_revisited', '_type': '_doc', '_id': 'doc_a', '_version': 2, 'result': 'updated', 'forced_refresh': True, '_shards': {'total': 2, 'successful': 1, 'failed': 0}, '_seq_no': 4, '_primary_term': 1}\n",
      "Indexing doc_b\n",
      "\n",
      "\tResponse:\n",
      "{'_index': 'search_fun_revisited', '_type': '_doc', '_id': 'doc_b', '_version': 2, 'result': 'updated', 'forced_refresh': True, '_shards': {'total': 2, 'successful': 1, 'failed': 0}, '_seq_no': 5, '_primary_term': 1}\n",
      "Indexing doc_c\n",
      "\n",
      "\tResponse:\n",
      "{'_index': 'search_fun_revisited', '_type': '_doc', '_id': 'doc_c', '_version': 2, 'result': 'updated', 'forced_refresh': True, '_shards': {'total': 2, 'successful': 1, 'failed': 0}, '_seq_no': 6, '_primary_term': 1}\n",
      "Indexing doc_d\n",
      "\n",
      "\tResponse:\n",
      "{'_index': 'search_fun_revisited', '_type': '_doc', '_id': 'doc_d', '_version': 2, 'result': 'updated', 'forced_refresh': True, '_shards': {'total': 2, 'successful': 1, 'failed': 0}, '_seq_no': 7, '_primary_term': 1}\n",
      "epoch      timestamp count\n",
      "1655773692 01:08:12  4\n",
      "\n"
     ]
    }
   ],
   "source": [
    "## BULK Indexing\n",
    "# Create an index with non-default settings.\n",
    "index_name = 'search_fun_revisited'\n",
    "# index_body = {\n",
    "#   'settings': {\n",
    "#     'index': {\n",
    "#       'query':{\n",
    "#           'default_field': \"body\"\n",
    "#       }\n",
    "#     }\n",
    "#   }\n",
    "# }\n",
    "\n",
    "# response = client.indices.create(index_name, body=index_body)\n",
    "# print('\\nCreating index:')\n",
    "# print(response)\n",
    "\n",
    "docs = [\n",
    "    {\n",
    "        \"id\": \"doc_a\",\n",
    "        \"title\": \"Fox and Hounds\",\n",
    "        \"body\": \"The quick red fox jumped over the lazy brown dogs.\",\n",
    "        \"price\": \"5.99\",\n",
    "        \"in_stock\": True,\n",
    "        \"category\": \"childrens\"},\n",
    "    {\n",
    "        \"id\": \"doc_b\",\n",
    "        \"title\": \"Fox wins championship\",\n",
    "        \"body\": \"Wearing all red, the Fox jumped out to a lead in the race over the Dog.\",\n",
    "        \"price\": \"15.13\",\n",
    "        \"in_stock\": True,\n",
    "        \"category\": \"sports\"},\n",
    "    {\n",
    "        \"id\": \"doc_c\",\n",
    "        \"title\": \"Lead Paint Removal\",\n",
    "        \"body\": \"All lead must be removed from the brown and red paint.\",\n",
    "        \"price\": \"150.21\",\n",
    "        \"in_stock\": False,\n",
    "        \"category\": \"instructional\"},\n",
    "    {\n",
    "        \"id\": \"doc_d\",\n",
    "        \"title\": \"The Three Little Pigs Revisted\",\n",
    "        \"price\": \"3.51\",\n",
    "        \"in_stock\": True,\n",
    "        \"body\": \"The big, bad wolf huffed and puffed and blew the house down. The end.\",\n",
    "        \"category\": \"childrens\"}\n",
    "]\n",
    "\n",
    "for doc in docs:\n",
    "    doc_id = doc[\"id\"]\n",
    "    print(\"Indexing {}\".format(doc_id))\n",
    "    response = client.index(\n",
    "        index=index_name,\n",
    "        body=doc,\n",
    "        id=doc_id,\n",
    "        refresh=True\n",
    "    )\n",
    "    print('\\n\\tResponse:')\n",
    "    print(response)\n",
    "\n",
    "# Verify they are in:\n",
    "print(client.cat.count(index_name, params={\"v\": \"true\"}))"
   ],
   "metadata": {
    "collapsed": false,
    "pycharm": {
     "name": "#%%\n"
    }
   }
  },
  {
   "cell_type": "code",
   "execution_count": 9,
   "outputs": [
    {
     "name": "stdout",
     "output_type": "stream",
     "text": [
      "{'search_fun_revisited': {'mappings': {'properties': {'body': {'type': 'text', 'fields': {'keyword': {'type': 'keyword', 'ignore_above': 256}}}, 'category': {'type': 'text', 'fields': {'keyword': {'type': 'keyword', 'ignore_above': 256}}}, 'id': {'type': 'text', 'fields': {'keyword': {'type': 'keyword', 'ignore_above': 256}}}, 'in_stock': {'type': 'boolean'}, 'price': {'type': 'text', 'fields': {'keyword': {'type': 'keyword', 'ignore_above': 256}}}, 'title': {'type': 'text', 'fields': {'keyword': {'type': 'keyword', 'ignore_above': 256}}}}}}}\n"
     ]
    }
   ],
   "source": [
    "print(client.indices.get_mapping(index_name))\n",
    "## Use GET /search_fun_revisited in DevTools"
   ],
   "metadata": {
    "collapsed": false,
    "pycharm": {
     "name": "#%%\n"
    }
   }
  },
  {
   "cell_type": "code",
   "execution_count": 10,
   "outputs": [
    {
     "name": "stdout",
     "output_type": "stream",
     "text": [
      "Indexing doc_a\n",
      "\n",
      "\tResponse:\n",
      "{'_index': 'search_fun_revisited_custom_mappings', '_type': '_doc', '_id': 'doc_a', '_version': 1, 'result': 'created', 'forced_refresh': True, '_shards': {'total': 2, 'successful': 1, 'failed': 0}, '_seq_no': 0, '_primary_term': 1}\n",
      "Indexing doc_b\n",
      "\n",
      "\tResponse:\n",
      "{'_index': 'search_fun_revisited_custom_mappings', '_type': '_doc', '_id': 'doc_b', '_version': 1, 'result': 'created', 'forced_refresh': True, '_shards': {'total': 2, 'successful': 1, 'failed': 0}, '_seq_no': 1, '_primary_term': 1}\n",
      "Indexing doc_c\n",
      "\n",
      "\tResponse:\n",
      "{'_index': 'search_fun_revisited_custom_mappings', '_type': '_doc', '_id': 'doc_c', '_version': 1, 'result': 'created', 'forced_refresh': True, '_shards': {'total': 2, 'successful': 1, 'failed': 0}, '_seq_no': 2, '_primary_term': 1}\n",
      "Indexing doc_d\n",
      "\n",
      "\tResponse:\n",
      "{'_index': 'search_fun_revisited_custom_mappings', '_type': '_doc', '_id': 'doc_d', '_version': 1, 'result': 'created', 'forced_refresh': True, '_shards': {'total': 2, 'successful': 1, 'failed': 0}, '_seq_no': 3, '_primary_term': 1}\n"
     ]
    }
   ],
   "source": [
    "### Analyzers\n",
    "index_name = 'search_fun_revisited_custom_mappings'\n",
    "index_body = {\n",
    "    'settings': {\n",
    "        'index': {\n",
    "            'query': {\n",
    "                'default_field': \"body\"\n",
    "            }\n",
    "        }\n",
    "    },\n",
    "    \"mappings\": {\n",
    "        \"properties\": {\n",
    "            \"title\": {\"type\": \"text\", \"analyzer\": \"english\"},\n",
    "            \"body\": {\"type\": \"text\", \"analyzer\": \"english\"},\n",
    "            \"in_stock\": {\"type\": \"boolean\"},\n",
    "            \"category\": {\"type\": \"keyword\", \"ignore_above\": \"256\"},\n",
    "            \"price\": {\"type\": \"float\"}\n",
    "        }\n",
    "    }\n",
    "}\n",
    "\n",
    "client.indices.create(index_name, body=index_body)\n",
    "\n",
    "\n",
    "\n",
    "for doc in docs:\n",
    "    doc_id = doc[\"id\"]\n",
    "    print(\"Indexing {}\".format(doc_id))\n",
    "    response = client.index(\n",
    "        index=index_name,\n",
    "        body=doc,\n",
    "        id=doc_id,\n",
    "        refresh=True\n",
    "    )\n",
    "    print('\\n\\tResponse:')\n",
    "    print(response)\n",
    "\n",
    "# Check results of these in DevTools\n",
    "# GET search_fun_revisited/_search?q=body:dogs\n",
    "# GET search_fun_revisited_custom_mappings/_search?q=body:dogs\n"
   ],
   "metadata": {
    "collapsed": false,
    "pycharm": {
     "name": "#%%\n"
    }
   }
  },
  {
   "cell_type": "code",
   "execution_count": 11,
   "outputs": [
    {
     "data": {
      "text/plain": "{'took': 42,\n 'timed_out': False,\n '_shards': {'total': 1, 'successful': 1, 'skipped': 0, 'failed': 0},\n 'hits': {'total': {'value': 2, 'relation': 'eq'},\n  'max_score': 0.71833557,\n  'hits': [{'_index': 'search_fun_revisited_custom_mappings',\n    '_type': '_doc',\n    '_id': 'doc_a',\n    '_score': 0.71833557,\n    '_source': {'id': 'doc_a',\n     'title': 'Fox and Hounds',\n     'body': 'The quick red fox jumped over the lazy brown dogs.',\n     'price': '5.99',\n     'in_stock': True,\n     'category': 'childrens'}},\n   {'_index': 'search_fun_revisited_custom_mappings',\n    '_type': '_doc',\n    '_id': 'doc_b',\n    '_score': 0.6548753,\n    '_source': {'id': 'doc_b',\n     'title': 'Fox wins championship',\n     'body': 'Wearing all red, the Fox jumped out to a lead in the race over the Dog.',\n     'price': '15.13',\n     'in_stock': True,\n     'category': 'sports'}}]}}"
     },
     "execution_count": 11,
     "metadata": {},
     "output_type": "execute_result"
    }
   ],
   "source": [
    "### Querying for docs with custom mappings\n",
    "q = 'dogs'\n",
    "index_name = 'search_fun_revisited_custom_mappings'\n",
    "query = {\n",
    "  'size': 5,\n",
    "  'query': {\n",
    "    'multi_match': {\n",
    "      'query': q,\n",
    "      'fields': ['title^2', 'body']\n",
    "    }\n",
    "  }\n",
    "}\n",
    "\n",
    "client.search(\n",
    "    body = query,\n",
    "    index = index_name\n",
    ")\n"
   ],
   "metadata": {
    "collapsed": false,
    "pycharm": {
     "name": "#%%\n"
    }
   }
  },
  {
   "cell_type": "code",
   "execution_count": 12,
   "outputs": [
    {
     "data": {
      "text/plain": "{'took': 15,\n 'timed_out': False,\n '_shards': {'total': 1, 'successful': 1, 'skipped': 0, 'failed': 0},\n 'hits': {'total': {'value': 0, 'relation': 'eq'},\n  'max_score': None,\n  'hits': []}}"
     },
     "execution_count": 12,
     "metadata": {},
     "output_type": "execute_result"
    }
   ],
   "source": [
    "# Phrase Query\n",
    "q = 'fox dog'\n",
    "query = {\n",
    "  'size': 5,\n",
    "  'query': {\n",
    "    'match_phrase': {\n",
    "      'body': {\"query\": q}\n",
    "    }\n",
    "  }\n",
    "}\n",
    "\n",
    "client.search(\n",
    "    body = query,\n",
    "    index = index_name\n",
    ")\n",
    "\n",
    "# Notice that we didn’t return any results! This is due to phrase queries requiring that the tokens fox and dog occur next to each other."
   ],
   "metadata": {
    "collapsed": false,
    "pycharm": {
     "name": "#%%\n"
    }
   }
  },
  {
   "cell_type": "code",
   "execution_count": 13,
   "outputs": [
    {
     "data": {
      "text/plain": "{'took': 8,\n 'timed_out': False,\n '_shards': {'total': 1, 'successful': 1, 'skipped': 0, 'failed': 0},\n 'hits': {'total': {'value': 2, 'relation': 'eq'},\n  'max_score': 0.39418244,\n  'hits': [{'_index': 'search_fun_revisited_custom_mappings',\n    '_type': '_doc',\n    '_id': 'doc_a',\n    '_score': 0.39418244,\n    '_source': {'id': 'doc_a',\n     'title': 'Fox and Hounds',\n     'body': 'The quick red fox jumped over the lazy brown dogs.',\n     'price': '5.99',\n     'in_stock': True,\n     'category': 'childrens'}},\n   {'_index': 'search_fun_revisited_custom_mappings',\n    '_type': '_doc',\n    '_id': 'doc_b',\n    '_score': 0.19532394,\n    '_source': {'id': 'doc_b',\n     'title': 'Fox wins championship',\n     'body': 'Wearing all red, the Fox jumped out to a lead in the race over the Dog.',\n     'price': '15.13',\n     'in_stock': True,\n     'category': 'sports'}}]}}"
     },
     "execution_count": 13,
     "metadata": {},
     "output_type": "execute_result"
    }
   ],
   "source": [
    "#try a phrase query with slop - This query says “find all documents where the terms “fox” and “dog” occur within 10 positions of each other.”\n",
    "q = 'fox dog'\n",
    "query = {\n",
    "  'size': 5,\n",
    "  'query': {\n",
    "    'match_phrase': {\n",
    "      'body': {\"query\": q, \"slop\":10}\n",
    "    }\n",
    "  }\n",
    "}\n",
    "\n",
    "client.search(\n",
    "    body = query,\n",
    "    index = index_name\n",
    ")"
   ],
   "metadata": {
    "collapsed": false,
    "pycharm": {
     "name": "#%%\n"
    }
   }
  },
  {
   "cell_type": "code",
   "execution_count": 14,
   "outputs": [
    {
     "data": {
      "text/plain": "{'took': 29,\n 'timed_out': False,\n '_shards': {'total': 1, 'successful': 1, 'skipped': 0, 'failed': 0},\n 'hits': {'total': {'value': 2, 'relation': 'eq'},\n  'max_score': 5.99,\n  'hits': [{'_index': 'search_fun_revisited_custom_mappings',\n    '_type': '_doc',\n    '_id': 'doc_a',\n    '_score': 5.99,\n    '_source': {'id': 'doc_a',\n     'title': 'Fox and Hounds',\n     'body': 'The quick red fox jumped over the lazy brown dogs.',\n     'price': '5.99',\n     'in_stock': True,\n     'category': 'childrens'}},\n   {'_index': 'search_fun_revisited_custom_mappings',\n    '_type': '_doc',\n    '_id': 'doc_d',\n    '_score': 3.51,\n    '_source': {'id': 'doc_d',\n     'title': 'The Three Little Pigs Revisted',\n     'price': '3.51',\n     'in_stock': True,\n     'body': 'The big, bad wolf huffed and puffed and blew the house down. The end.',\n     'category': 'childrens'}}]}}"
     },
     "execution_count": 14,
     "metadata": {},
     "output_type": "execute_result"
    }
   ],
   "source": [
    "## Filter and Query\n",
    "index_name = 'search_fun_revisited_custom_mappings'\n",
    "query = {\n",
    "    'size': 5,\n",
    "    'query': {\n",
    "        \"function_score\": {\n",
    "            \"query\": {\n",
    "                \"bool\": {\n",
    "                    \"must\": [\n",
    "                        {\"match_all\": {}}\n",
    "                    ],\n",
    "                    \"filter\": [\n",
    "                        {\"term\": {\"category\": \"childrens\"}}\n",
    "                    ]\n",
    "                }\n",
    "            },\n",
    "            \"field_value_factor\": {\n",
    "                \"field\": \"price\",\n",
    "                \"missing\": 1\n",
    "            }\n",
    "        }\n",
    "    }\n",
    "}\n",
    "\n",
    "client.search(\n",
    "    body=query,\n",
    "    index=index_name\n",
    ")\n"
   ],
   "metadata": {
    "collapsed": false,
    "pycharm": {
     "name": "#%%\n"
    }
   }
  },
  {
   "cell_type": "code",
   "execution_count": 15,
   "outputs": [
    {
     "name": "stdout",
     "output_type": "stream",
     "text": [
      "\n",
      "Search results:\n",
      "{\n",
      "    \"took\": 20,\n",
      "    \"timed_out\": false,\n",
      "    \"_shards\": {\n",
      "        \"total\": 1,\n",
      "        \"successful\": 1,\n",
      "        \"skipped\": 0,\n",
      "        \"failed\": 0\n",
      "    },\n",
      "    \"hits\": {\n",
      "        \"total\": {\n",
      "            \"value\": 4,\n",
      "            \"relation\": \"eq\"\n",
      "        },\n",
      "        \"max_score\": null,\n",
      "        \"hits\": []\n",
      "    },\n",
      "    \"aggregations\": {\n",
      "        \"category\": {\n",
      "            \"doc_count_error_upper_bound\": 0,\n",
      "            \"sum_other_doc_count\": 0,\n",
      "            \"buckets\": [\n",
      "                {\n",
      "                    \"key\": \"childrens\",\n",
      "                    \"doc_count\": 2\n",
      "                },\n",
      "                {\n",
      "                    \"key\": \"instructional\",\n",
      "                    \"doc_count\": 1\n",
      "                },\n",
      "                {\n",
      "                    \"key\": \"sports\",\n",
      "                    \"doc_count\": 1\n",
      "                },\n",
      "                {\n",
      "                    \"key\": \"N/A\",\n",
      "                    \"doc_count\": 0\n",
      "                }\n",
      "            ]\n",
      "        }\n",
      "    }\n",
      "}\n"
     ]
    }
   ],
   "source": [
    "# Aggregations\n",
    "query = {\n",
    "    'size': 0,\n",
    "    'query': {\n",
    "        \"match_all\": {}\n",
    "    },\n",
    "    'aggs': {\n",
    "        \"category\": {\n",
    "            \"terms\": {\n",
    "                \"field\": \"category\",\n",
    "                \"size\": 10,\n",
    "                \"missing\": \"N/A\",\n",
    "                \"min_doc_count\": 0\n",
    "            }\n",
    "        }\n",
    "    }\n",
    "}\n",
    "\n",
    "response = client.search(\n",
    "    body=query,\n",
    "    index=index_name\n",
    ")\n",
    "print('\\nSearch results:')\n",
    "print(json.dumps(response, indent=4))"
   ],
   "metadata": {
    "collapsed": false,
    "pycharm": {
     "name": "#%%\n"
    }
   }
  },
  {
   "cell_type": "code",
   "execution_count": 17,
   "outputs": [
    {
     "name": "stdout",
     "output_type": "stream",
     "text": [
      "\n",
      "Search results:\n",
      "{\n",
      "    \"took\": 25,\n",
      "    \"timed_out\": false,\n",
      "    \"_shards\": {\n",
      "        \"total\": 1,\n",
      "        \"successful\": 1,\n",
      "        \"skipped\": 0,\n",
      "        \"failed\": 0\n",
      "    },\n",
      "    \"hits\": {\n",
      "        \"total\": {\n",
      "            \"value\": 4,\n",
      "            \"relation\": \"eq\"\n",
      "        },\n",
      "        \"max_score\": null,\n",
      "        \"hits\": []\n",
      "    },\n",
      "    \"aggregations\": {\n",
      "        \"price\": {\n",
      "            \"doc_count_error_upper_bound\": 0,\n",
      "            \"sum_other_doc_count\": 0,\n",
      "            \"buckets\": [\n",
      "                {\n",
      "                    \"key\": 3.509999990463257,\n",
      "                    \"doc_count\": 1\n",
      "                },\n",
      "                {\n",
      "                    \"key\": 5.989999771118164,\n",
      "                    \"doc_count\": 1\n",
      "                },\n",
      "                {\n",
      "                    \"key\": 15.130000114440918,\n",
      "                    \"doc_count\": 1\n",
      "                },\n",
      "                {\n",
      "                    \"key\": 150.2100067138672,\n",
      "                    \"doc_count\": 1\n",
      "                }\n",
      "            ]\n",
      "        }\n",
      "    }\n",
      "}\n"
     ]
    }
   ],
   "source": [
    "# Aggregate by price\n",
    "query = {\n",
    "    'size': 0,\n",
    "    'query': {\n",
    "        \"match_all\": {}\n",
    "    },\n",
    "    'aggs': {\n",
    "        \"price\": {\n",
    "            \"terms\": {\n",
    "                \"field\": \"price\",\n",
    "                \"size\": 10,\n",
    "                \"min_doc_count\": 0\n",
    "            }\n",
    "        }\n",
    "    }\n",
    "}\n",
    "\n",
    "response = client.search(\n",
    "    body=query,\n",
    "    index=index_name\n",
    ")\n",
    "print('\\nSearch results:')\n",
    "print(json.dumps(response, indent=4))"
   ],
   "metadata": {
    "collapsed": false,
    "pycharm": {
     "name": "#%%\n"
    }
   }
  },
  {
   "cell_type": "code",
   "execution_count": 19,
   "outputs": [
    {
     "name": "stdout",
     "output_type": "stream",
     "text": [
      "\n",
      "Search results:\n",
      "{\n",
      "    \"took\": 2,\n",
      "    \"timed_out\": false,\n",
      "    \"_shards\": {\n",
      "        \"total\": 1,\n",
      "        \"successful\": 1,\n",
      "        \"skipped\": 0,\n",
      "        \"failed\": 0\n",
      "    },\n",
      "    \"hits\": {\n",
      "        \"total\": {\n",
      "            \"value\": 4,\n",
      "            \"relation\": \"eq\"\n",
      "        },\n",
      "        \"max_score\": null,\n",
      "        \"hits\": []\n",
      "    },\n",
      "    \"aggregations\": {\n",
      "        \"price\": {\n",
      "            \"buckets\": [\n",
      "                {\n",
      "                    \"key\": \"*-5.0\",\n",
      "                    \"to\": 5.0,\n",
      "                    \"doc_count\": 1\n",
      "                },\n",
      "                {\n",
      "                    \"key\": \"5.0-20.0\",\n",
      "                    \"from\": 5.0,\n",
      "                    \"to\": 20.0,\n",
      "                    \"doc_count\": 2\n",
      "                },\n",
      "                {\n",
      "                    \"key\": \"20.0-*\",\n",
      "                    \"from\": 20.0,\n",
      "                    \"doc_count\": 1\n",
      "                }\n",
      "            ]\n",
      "        }\n",
      "    }\n",
      "}\n"
     ]
    }
   ],
   "source": [
    "# Aggregate by price using range\n",
    "query = {\n",
    "    'size': 0,\n",
    "    'query': {\n",
    "        \"match_all\": {}\n",
    "    },\n",
    "    'aggs': {\n",
    "        \"price\": {\n",
    "            \"range\": {\n",
    "                \"field\": \"price\",\n",
    "                \"ranges\": [\n",
    "                    {\n",
    "                        \"to\": 5\n",
    "                    },\n",
    "                    {\n",
    "                        \"from\": 5,\n",
    "                        \"to\": 20\n",
    "                    },\n",
    "                    {\n",
    "                        \"from\": 20,\n",
    "                    }\n",
    "                ]\n",
    "            }\n",
    "        }\n",
    "    }\n",
    "}\n",
    "\n",
    "response = client.search(\n",
    "body = query,\n",
    "index = index_name\n",
    ")\n",
    "print('\\nSearch results:')\n",
    "print(json.dumps(response, indent=4))"
   ],
   "metadata": {
    "collapsed": false,
    "pycharm": {
     "name": "#%%\n"
    }
   }
  },
  {
   "cell_type": "code",
   "execution_count": null,
   "outputs": [],
   "source": [],
   "metadata": {
    "collapsed": false,
    "pycharm": {
     "name": "#%%\n"
    }
   }
  }
 ],
 "metadata": {
  "kernelspec": {
   "display_name": "Python 3",
   "language": "python",
   "name": "python3"
  },
  "language_info": {
   "codemirror_mode": {
    "name": "ipython",
    "version": 2
   },
   "file_extension": ".py",
   "mimetype": "text/x-python",
   "name": "python",
   "nbconvert_exporter": "python",
   "pygments_lexer": "ipython2",
   "version": "2.7.6"
  }
 },
 "nbformat": 4,
 "nbformat_minor": 0
}