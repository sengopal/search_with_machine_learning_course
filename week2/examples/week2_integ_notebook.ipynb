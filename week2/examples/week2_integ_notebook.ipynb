{
 "cells": [
  {
   "cell_type": "code",
   "execution_count": 1,
   "outputs": [
    {
     "name": "stderr",
     "output_type": "stream",
     "text": [
      "[nltk_data] Downloading package words to /Users/sengopal/nltk_data...\n",
      "[nltk_data]   Package words is already up-to-date!\n",
      "[nltk_data] Downloading package maxent_ne_chunker to\n",
      "[nltk_data]     /Users/sengopal/nltk_data...\n",
      "[nltk_data]   Package maxent_ne_chunker is already up-to-date!\n",
      "[nltk_data] Downloading package punkt to /Users/sengopal/nltk_data...\n",
      "[nltk_data]   Package punkt is already up-to-date!\n",
      "[nltk_data] Downloading package averaged_perceptron_tagger to\n",
      "[nltk_data]     /Users/sengopal/nltk_data...\n",
      "[nltk_data]   Package averaged_perceptron_tagger is already up-to-\n",
      "[nltk_data]       date!\n",
      "[nltk_data] Downloading collection 'popular'\n",
      "[nltk_data]    | \n",
      "[nltk_data]    | Downloading package cmudict to\n",
      "[nltk_data]    |     /Users/sengopal/nltk_data...\n",
      "[nltk_data]    |   Unzipping corpora/cmudict.zip.\n",
      "[nltk_data]    | Downloading package gazetteers to\n",
      "[nltk_data]    |     /Users/sengopal/nltk_data...\n",
      "[nltk_data]    |   Unzipping corpora/gazetteers.zip.\n",
      "[nltk_data]    | Downloading package genesis to\n",
      "[nltk_data]    |     /Users/sengopal/nltk_data...\n",
      "[nltk_data]    |   Unzipping corpora/genesis.zip.\n",
      "[nltk_data]    | Downloading package gutenberg to\n",
      "[nltk_data]    |     /Users/sengopal/nltk_data...\n",
      "[nltk_data]    |   Unzipping corpora/gutenberg.zip.\n",
      "[nltk_data]    | Downloading package inaugural to\n",
      "[nltk_data]    |     /Users/sengopal/nltk_data...\n",
      "[nltk_data]    |   Unzipping corpora/inaugural.zip.\n",
      "[nltk_data]    | Downloading package movie_reviews to\n",
      "[nltk_data]    |     /Users/sengopal/nltk_data...\n",
      "[nltk_data]    |   Unzipping corpora/movie_reviews.zip.\n",
      "[nltk_data]    | Downloading package names to\n",
      "[nltk_data]    |     /Users/sengopal/nltk_data...\n",
      "[nltk_data]    |   Unzipping corpora/names.zip.\n",
      "[nltk_data]    | Downloading package shakespeare to\n",
      "[nltk_data]    |     /Users/sengopal/nltk_data...\n",
      "[nltk_data]    |   Unzipping corpora/shakespeare.zip.\n",
      "[nltk_data]    | Downloading package stopwords to\n",
      "[nltk_data]    |     /Users/sengopal/nltk_data...\n",
      "[nltk_data]    |   Package stopwords is already up-to-date!\n",
      "[nltk_data]    | Downloading package treebank to\n",
      "[nltk_data]    |     /Users/sengopal/nltk_data...\n",
      "[nltk_data]    |   Unzipping corpora/treebank.zip.\n",
      "[nltk_data]    | Downloading package twitter_samples to\n",
      "[nltk_data]    |     /Users/sengopal/nltk_data...\n",
      "[nltk_data]    |   Package twitter_samples is already up-to-date!\n",
      "[nltk_data]    | Downloading package omw to\n",
      "[nltk_data]    |     /Users/sengopal/nltk_data...\n",
      "[nltk_data]    |   Unzipping corpora/omw.zip.\n",
      "[nltk_data]    | Downloading package omw-1.4 to\n",
      "[nltk_data]    |     /Users/sengopal/nltk_data...\n",
      "[nltk_data]    |   Unzipping corpora/omw-1.4.zip.\n",
      "[nltk_data]    | Downloading package wordnet to\n",
      "[nltk_data]    |     /Users/sengopal/nltk_data...\n",
      "[nltk_data]    |   Package wordnet is already up-to-date!\n",
      "[nltk_data]    | Downloading package wordnet2021 to\n",
      "[nltk_data]    |     /Users/sengopal/nltk_data...\n",
      "[nltk_data]    |   Unzipping corpora/wordnet2021.zip.\n",
      "[nltk_data]    | Downloading package wordnet31 to\n",
      "[nltk_data]    |     /Users/sengopal/nltk_data...\n",
      "[nltk_data]    |   Unzipping corpora/wordnet31.zip.\n",
      "[nltk_data]    | Downloading package wordnet_ic to\n",
      "[nltk_data]    |     /Users/sengopal/nltk_data...\n",
      "[nltk_data]    |   Unzipping corpora/wordnet_ic.zip.\n",
      "[nltk_data]    | Downloading package words to\n",
      "[nltk_data]    |     /Users/sengopal/nltk_data...\n",
      "[nltk_data]    |   Package words is already up-to-date!\n",
      "[nltk_data]    | Downloading package maxent_ne_chunker to\n",
      "[nltk_data]    |     /Users/sengopal/nltk_data...\n",
      "[nltk_data]    |   Package maxent_ne_chunker is already up-to-date!\n",
      "[nltk_data]    | Downloading package punkt to\n",
      "[nltk_data]    |     /Users/sengopal/nltk_data...\n",
      "[nltk_data]    |   Package punkt is already up-to-date!\n",
      "[nltk_data]    | Downloading package snowball_data to\n",
      "[nltk_data]    |     /Users/sengopal/nltk_data...\n",
      "[nltk_data]    | Downloading package averaged_perceptron_tagger to\n",
      "[nltk_data]    |     /Users/sengopal/nltk_data...\n",
      "[nltk_data]    |   Package averaged_perceptron_tagger is already up-\n",
      "[nltk_data]    |       to-date!\n",
      "[nltk_data]    | \n",
      "[nltk_data]  Done downloading collection popular\n"
     ]
    }
   ],
   "source": [
    "\n",
    "import json\n",
    "\n",
    "import nltk\n",
    "from opensearchpy import OpenSearch\n",
    "\n",
    "# Do some setup work\n",
    "nltk.download('words')\n",
    "nltk.download('maxent_ne_chunker')\n",
    "nltk.download('punkt')\n",
    "nltk.download('averaged_perceptron_tagger')\n",
    "nltk.download('popular')\n",
    "\n",
    "host = 'localhost'\n",
    "port = 9200\n",
    "auth = ('admin', 'admin')  # For testing only. Don't store credentials in code.\n",
    "\n",
    "# Create the client with SSL/TLS enabled, but hostname and certificate verification disabled.\n",
    "client = OpenSearch(\n",
    "    hosts=[{'host': host, 'port': port}],\n",
    "    http_compress=True,  # enables gzip compression for request bodies\n",
    "    http_auth=auth,\n",
    "    # client_cert = client_cert_path,\n",
    "    # client_key = client_key_path,\n",
    "    use_ssl=True,\n",
    "    verify_certs=False,\n",
    "    ssl_assert_hostname=False,\n",
    "    ssl_show_warn=False,\n",
    ")"
   ],
   "metadata": {
    "collapsed": false,
    "pycharm": {
     "name": "#%%\n"
    }
   }
  },
  {
   "cell_type": "code",
   "execution_count": 2,
   "outputs": [],
   "source": [
    "# Create an index with non-default settings.\n",
    "# Create a new index, this time with different mappings\n",
    "index_name = 'searchml_week2'\n",
    "index_body = {\n",
    "    'settings': {\n",
    "        \"analysis\": {\n",
    "            \"filter\": {\n",
    "                \"pos_filter\": {\n",
    "                    \"type\": \"pattern_capture\",\n",
    "                    \"preserve_original\": True,\n",
    "                    \"patterns\": [\"(.*)#(.*)\"]\n",
    "                }\n",
    "            },\n",
    "            \"analyzer\": {\n",
    "\n",
    "                \"body_pos\": {\n",
    "                    \"tokenizer\": \"whitespace\",  # we can't use standard b/c it strips or delimiters\n",
    "                    \"filter\": [\"pos_filter\", \"lowercase\"]  # put whatever else here\n",
    "                },\n",
    "                \"body_pos_search\": {\n",
    "                    \"tokenizer\": \"whitespace\",  # we can't use standard b/c it strips or delimiters\n",
    "                    \"filter\": [\"lowercase\"]  # put whatever else here\n",
    "                }\n",
    "\n",
    "            }\n",
    "        },\n",
    "        'index': {\n",
    "            'query': {\n",
    "                'default_field': \"body\"\n",
    "            }\n",
    "        }\n",
    "    },\n",
    "    \"mappings\": {\n",
    "        \"properties\": {\n",
    "            \"title\": {\"type\": \"text\", \"analyzer\": \"english\"},\n",
    "            \"body\": {\"type\": \"text\", \"analyzer\": \"english\"},\n",
    "            \"body_sentences\": {\"type\": \"text\", \"analyzer\": \"english\"},\n",
    "            # Notice the different search analyzer\n",
    "            \"body_pos\": {\"type\": \"text\", \"analyzer\": \"body_pos\", \"search_analyzer\": \"body_pos_search\"},\n",
    "\n",
    "            \"body_ne\": {\"type\": \"text\", \"analyzer\": \"standard\"},\n",
    "            \"in_stock\": {\"type\": \"boolean\"},\n",
    "            \"category\": {\"type\": \"keyword\", \"ignore_above\": \"256\"},\n",
    "            \"price\": {\"type\": \"float\"}\n",
    "        }\n",
    "    }\n",
    "}"
   ],
   "metadata": {
    "collapsed": false,
    "pycharm": {
     "name": "#%%\n"
    }
   }
  },
  {
   "cell_type": "code",
   "execution_count": 3,
   "outputs": [
    {
     "data": {
      "text/plain": "{'acknowledged': True, 'shards_acknowledged': True, 'index': 'searchml_week2'}"
     },
     "execution_count": 3,
     "metadata": {},
     "output_type": "execute_result"
    }
   ],
   "source": [
    "try:\n",
    "    client.indices.delete(index_name)\n",
    "except:\n",
    "    pass\n",
    "client.indices.create(index_name, body=index_body)"
   ],
   "metadata": {
    "collapsed": false,
    "pycharm": {
     "name": "#%%\n"
    }
   }
  },
  {
   "cell_type": "code",
   "execution_count": 4,
   "outputs": [],
   "source": [
    "# Add our sample document to the index.\n",
    "docs = [\n",
    "    {\n",
    "        \"id\": \"doc_b\",\n",
    "        \"title\": \"Wayne Gretzky\",\n",
    "        \"body\": \"The greatest hockey player of all time is Wayne Gretzky. He holds a record for holding the most records!  Who else even comes close?\",\n",
    "        \"price\": \"15.13\",\n",
    "        \"in_stock\": True,\n",
    "        \"category\": \"sports\"},\n",
    "    {\n",
    "        \"id\": \"doc_a\",\n",
    "        \"title\": \"Apple iPhone 13\",\n",
    "        \"body\": \"The all new Apple iPhone 13 has 3 cameras and the fastest chip on the market.  The phone retails for $699 for 64GB of storage.\",\n",
    "        \"price\": \"5.99\",\n",
    "        \"in_stock\": True,\n",
    "        \"category\": \"childrens\"},\n",
    "\n",
    "    {\n",
    "        \"id\": \"doc_c\",\n",
    "        \"title\": \"Lead Paint Removal\",\n",
    "        \"body\": \"All lead must be removed from the brown and red paint.  Use the Glidden Lead Paint Killer solvent to keep the paint, but remove the lead!\",\n",
    "        \"price\": \"150.21\",\n",
    "        \"in_stock\": False,\n",
    "        \"category\": \"instructional\"},\n",
    "    {\n",
    "        \"id\": \"doc_d\",\n",
    "        \"title\": \"The Three Little Pigs Revisted\",\n",
    "        \"price\": \"3.51\",\n",
    "        \"in_stock\": True,\n",
    "        \"body\": \"The big, bad wolf huffed and puffed and blew the house down. The end.  Well, not quite.  It seems the pigs filed an injunction against the wolf and now the wolf has to pay restitution.\",\n",
    "        \"category\": \"childrens\"},\n",
    "    {\n",
    "        \"id\": \"doc_e\",\n",
    "        \"title\": \"Green apples and Spam\",\n",
    "        \"price\": \"2.99\",\n",
    "        \"in_stock\": True,\n",
    "        \"body\": \"The little green apple fell from the tree.  It was not a bad apple, so no one could understand why it fell.\",\n",
    "        \"category\": \"childrens\"},\n",
    "    {\n",
    "        \"id\": \"doc_f\",\n",
    "        \"title\": \"Fun with Spans\",\n",
    "        \"price\": \"4.99\",\n",
    "        \"in_stock\": True,\n",
    "        \"body\": \"Dan is the President. The United States Government has arrested him.\",\n",
    "        \"category\": \"childrens\"}\n",
    "\n",
    "]"
   ],
   "metadata": {
    "collapsed": false,
    "pycharm": {
     "name": "#%%\n"
    }
   }
  },
  {
   "cell_type": "code",
   "execution_count": 5,
   "outputs": [],
   "source": [
    "def get_entities(named_entities, entity_types):\n",
    "    result = \"\"\n",
    "    for ent in named_entities:  # two cases: we have a NNP or we have a tree\n",
    "        if isinstance(ent, tuple):\n",
    "            e_type = ent[1]\n",
    "            if e_type in entity_types:\n",
    "                result += ent[0] + \" \"\n",
    "        elif isinstance(ent, nltk.Tree):\n",
    "            if ent.label() in entity_types:\n",
    "                # these are tuples, we want all of them, but just the first part\n",
    "                result += \"_\".join([x[0] for x in ent.leaves()])\n",
    "\n",
    "    return result"
   ],
   "metadata": {
    "collapsed": false,
    "pycharm": {
     "name": "#%%\n"
    }
   }
  },
  {
   "cell_type": "code",
   "execution_count": 7,
   "outputs": [
    {
     "name": "stdout",
     "output_type": "stream",
     "text": [
      "Indexing doc_b as: {\n",
      "    \"id\": \"doc_b\",\n",
      "    \"title\": \"Wayne Gretzky\",\n",
      "    \"body\": \"The greatest hockey player of all time is Wayne Gretzky. He holds a record for holding the most records!  Who else even comes close?\",\n",
      "    \"price\": \"15.13\",\n",
      "    \"in_stock\": true,\n",
      "    \"category\": \"sports\",\n",
      "    \"body_sentences\": \"__SB__ The greatest hockey player of all time is Wayne Gretzky. __SE__ __SB__ He holds a record for holding the most records! __SE__ __SB__ Who else even comes close? __SE__\",\n",
      "    \"body_pos\": \"The#__DT__ greatest#__JJS__ hockey#__NN__ player#__NN__ of#__IN__ all#__DT__ time#__NN__ is#__VBZ__ Wayne#__NNP__ Gretzky#__NNP__ .#__.__ He#__PRP__ holds#__VBZ__ a#__DT__ record#__NN__ for#__IN__ holding#__VBG__ the#__DT__ most#__RBS__ records#__NNS__ !#__.__ Who#__WP__ else#__RB__ even#__RB__ comes#__VBZ__ close#__RB__ ?#__.__\",\n",
      "    \"body_ne\": \"Wayne_Gretzky\"\n",
      "}\n",
      "Indexing doc_a as: {\n",
      "    \"id\": \"doc_a\",\n",
      "    \"title\": \"Apple iPhone 13\",\n",
      "    \"body\": \"The all new Apple iPhone 13 has 3 cameras and the fastest chip on the market.  The phone retails for $699 for 64GB of storage.\",\n",
      "    \"price\": \"5.99\",\n",
      "    \"in_stock\": true,\n",
      "    \"category\": \"childrens\",\n",
      "    \"body_sentences\": \"__SB__ The all new Apple iPhone 13 has 3 cameras and the fastest chip on the market. __SE__ __SB__ The phone retails for $699 for 64GB of storage. __SE__\",\n",
      "    \"body_pos\": \"The#__DT__ all#__DT__ new#__JJ__ Apple#__NNP__ iPhone#__NN__ 13#__CD__ has#__VBZ__ 3#__CD__ cameras#__NNS__ and#__CC__ the#__DT__ fastest#__JJS__ chip#__NN__ on#__IN__ the#__DT__ market#__NN__ .#__.__ The#__DT__ phone#__NN__ retails#__VBZ__ for#__IN__ $#__$__ 699#__CD__ for#__IN__ 64GB#__CD__ of#__IN__ storage#__NN__ .#__.__\",\n",
      "    \"body_ne\": \"Apple \"\n",
      "}\n",
      "Indexing doc_c as: {\n",
      "    \"id\": \"doc_c\",\n",
      "    \"title\": \"Lead Paint Removal\",\n",
      "    \"body\": \"All lead must be removed from the brown and red paint.  Use the Glidden Lead Paint Killer solvent to keep the paint, but remove the lead!\",\n",
      "    \"price\": \"150.21\",\n",
      "    \"in_stock\": false,\n",
      "    \"category\": \"instructional\",\n",
      "    \"body_sentences\": \"__SB__ All lead must be removed from the brown and red paint. __SE__ __SB__ Use the Glidden Lead Paint Killer solvent to keep the paint, but remove the lead! __SE__\",\n",
      "    \"body_pos\": \"All#__DT__ lead#__NN__ must#__MD__ be#__VB__ removed#__VBN__ from#__IN__ the#__DT__ brown#__NN__ and#__CC__ red#__JJ__ paint#__NN__ .#__.__ Use#__VB__ the#__DT__ Glidden#__NNP__ Lead#__NNP__ Paint#__NNP__ Killer#__NNP__ solvent#__NN__ to#__TO__ keep#__VB__ the#__DT__ paint#__NN__ ,#__,__ but#__CC__ remove#__VB__ the#__DT__ lead#__NN__ !#__.__\",\n",
      "    \"body_ne\": \"Glidden_Lead_Paint_Killer\"\n",
      "}\n",
      "Indexing doc_d as: {\n",
      "    \"id\": \"doc_d\",\n",
      "    \"title\": \"The Three Little Pigs Revisted\",\n",
      "    \"price\": \"3.51\",\n",
      "    \"in_stock\": true,\n",
      "    \"body\": \"The big, bad wolf huffed and puffed and blew the house down. The end.  Well, not quite.  It seems the pigs filed an injunction against the wolf and now the wolf has to pay restitution.\",\n",
      "    \"category\": \"childrens\",\n",
      "    \"body_sentences\": \"__SB__ The big, bad wolf huffed and puffed and blew the house down. __SE__ __SB__ The end. __SE__ __SB__ Well, not quite. __SE__ __SB__ It seems the pigs filed an injunction against the wolf and now the wolf has to pay restitution. __SE__\",\n",
      "    \"body_pos\": \"The#__DT__ big#__JJ__ ,#__,__ bad#__JJ__ wolf#__NN__ huffed#__NN__ and#__CC__ puffed#__NN__ and#__CC__ blew#__VBD__ the#__DT__ house#__NN__ down#__RP__ .#__.__ The#__DT__ end#__NN__ .#__.__ Well#__NNP__ ,#__,__ not#__RB__ quite#__RB__ .#__.__ It#__PRP__ seems#__VBZ__ the#__DT__ pigs#__NNS__ filed#__VBD__ an#__DT__ injunction#__NN__ against#__IN__ the#__DT__ wolf#__NN__ and#__CC__ now#__RB__ the#__DT__ wolf#__NN__ has#__VBZ__ to#__TO__ pay#__VB__ restitution#__NN__ .#__.__\",\n",
      "    \"body_ne\": \"Well \"\n",
      "}\n",
      "Indexing doc_e as: {\n",
      "    \"id\": \"doc_e\",\n",
      "    \"title\": \"Green apples and Spam\",\n",
      "    \"price\": \"2.99\",\n",
      "    \"in_stock\": true,\n",
      "    \"body\": \"The little green apple fell from the tree.  It was not a bad apple, so no one could understand why it fell.\",\n",
      "    \"category\": \"childrens\",\n",
      "    \"body_sentences\": \"__SB__ The little green apple fell from the tree. __SE__ __SB__ It was not a bad apple, so no one could understand why it fell. __SE__\",\n",
      "    \"body_pos\": \"The#__DT__ little#__JJ__ green#__JJ__ apple#__NN__ fell#__VBD__ from#__IN__ the#__DT__ tree#__NN__ .#__.__ It#__PRP__ was#__VBD__ not#__RB__ a#__DT__ bad#__JJ__ apple#__NN__ ,#__,__ so#__IN__ no#__DT__ one#__NN__ could#__MD__ understand#__VB__ why#__WRB__ it#__PRP__ fell#__VBD__ .#__.__\",\n",
      "    \"body_ne\": \"\"\n",
      "}\n",
      "Indexing doc_f as: {\n",
      "    \"id\": \"doc_f\",\n",
      "    \"title\": \"Fun with Spans\",\n",
      "    \"price\": \"4.99\",\n",
      "    \"in_stock\": true,\n",
      "    \"body\": \"Dan is the President. The United States Government has arrested him.\",\n",
      "    \"category\": \"childrens\",\n",
      "    \"body_sentences\": \"__SB__ Dan is the President. __SE__ __SB__ The United States Government has arrested him. __SE__\",\n",
      "    \"body_pos\": \"Dan#__NNP__ is#__VBZ__ the#__DT__ President#__NNP__ .#__.__ The#__DT__ United#__NNP__ States#__NNPS__ Government#__NNP__ has#__VBZ__ arrested#__VBN__ him#__PRP__ .#__.__\",\n",
      "    \"body_ne\": \"President Government \"\n",
      "}\n"
     ]
    }
   ],
   "source": [
    "for doc in docs:\n",
    "    doc_id = doc[\"id\"]\n",
    "    for item in [\"body\"]:  # Just do body for now\n",
    "        value = doc[item]\n",
    "        tokens = nltk.word_tokenize(value)\n",
    "        sentences = nltk.sent_tokenize(value)\n",
    "        pos = nltk.pos_tag(tokens)\n",
    "        named_entities = nltk.ne_chunk(pos)\n",
    "        doc[\"%s_sentences\" % item] = \" \".join(\"__SB__ %s __SE__\" % x for x in sentences)\n",
    "        doc[\"%s_pos\" % item] = \" \".join([\"#\".join([x[0], \"__%s__\" % x[1]]) for x in pos])\n",
    "        doc[\"%s_ne\" % item] = get_entities(named_entities, {\"ORGANIZATION\", \"PERSON\", \"NNP\"})\n",
    "    print(\"Indexing {} as: {}\".format(doc_id, json.dumps(doc, indent=4)))\n",
    "\n",
    "    client.index(\n",
    "        index=index_name,\n",
    "        body=doc,\n",
    "        id=doc_id,\n",
    "        refresh=True\n",
    "    )"
   ],
   "metadata": {
    "collapsed": false,
    "pycharm": {
     "name": "#%%\n"
    }
   }
  },
  {
   "cell_type": "code",
   "execution_count": 8,
   "outputs": [
    {
     "name": "stdout",
     "output_type": "stream",
     "text": [
      "epoch      timestamp count\n",
      "1656696124 17:22:04  6\n",
      "\n"
     ]
    }
   ],
   "source": [
    "# Verify they are in:\n",
    "print(client.cat.count(index_name, params={\"v\": \"true\"}))"
   ],
   "metadata": {
    "collapsed": false,
    "pycharm": {
     "name": "#%%\n"
    }
   }
  },
  {
   "cell_type": "code",
   "execution_count": 9,
   "outputs": [
    {
     "name": "stdout",
     "output_type": "stream",
     "text": [
      "Proper Noun Apple\n",
      "{\n",
      "  \"took\": 7,\n",
      "  \"timed_out\": false,\n",
      "  \"_shards\": {\n",
      "    \"total\": 1,\n",
      "    \"successful\": 1,\n",
      "    \"skipped\": 0,\n",
      "    \"failed\": 0\n",
      "  },\n",
      "  \"hits\": {\n",
      "    \"total\": {\n",
      "      \"value\": 1,\n",
      "      \"relation\": \"eq\"\n",
      "    },\n",
      "    \"max_score\": 2.1059992,\n",
      "    \"hits\": [\n",
      "      {\n",
      "        \"_index\": \"searchml_week2\",\n",
      "        \"_type\": \"_doc\",\n",
      "        \"_id\": \"doc_a\",\n",
      "        \"_score\": 2.1059992,\n",
      "        \"_source\": {\n",
      "          \"id\": \"doc_a\",\n",
      "          \"title\": \"Apple iPhone 13\",\n",
      "          \"body\": \"The all new Apple iPhone 13 has 3 cameras and the fastest chip on the market.  The phone retails for $699 for 64GB of storage.\",\n",
      "          \"price\": \"5.99\",\n",
      "          \"in_stock\": true,\n",
      "          \"category\": \"childrens\",\n",
      "          \"body_sentences\": \"__SB__ The all new Apple iPhone 13 has 3 cameras and the fastest chip on the market. __SE__ __SB__ The phone retails for $699 for 64GB of storage. __SE__\",\n",
      "          \"body_pos\": \"The#__DT__ all#__DT__ new#__JJ__ Apple#__NNP__ iPhone#__NN__ 13#__CD__ has#__VBZ__ 3#__CD__ cameras#__NNS__ and#__CC__ the#__DT__ fastest#__JJS__ chip#__NN__ on#__IN__ the#__DT__ market#__NN__ .#__.__ The#__DT__ phone#__NN__ retails#__VBZ__ for#__IN__ $#__$__ 699#__CD__ for#__IN__ 64GB#__CD__ of#__IN__ storage#__NN__ .#__.__\",\n",
      "          \"body_ne\": \"Apple \"\n",
      "        }\n",
      "      }\n",
      "    ]\n",
      "  }\n",
      "}\n"
     ]
    }
   ],
   "source": [
    "print(\"Proper Noun Apple\")\n",
    "# Do fine Apple as a proper noun\n",
    "q = 'apple#__NNP__'\n",
    "query = {\n",
    "    'size': 5,\n",
    "    'query': {\n",
    "        'query_string': {\n",
    "            'query': q,\n",
    "            'fields': ['body_pos']\n",
    "        }\n",
    "    }\n",
    "}\n",
    "\n",
    "rsp = client.search(\n",
    "    body=query,\n",
    "    index=index_name\n",
    ")\n",
    "\n",
    "print(json.dumps(rsp, indent=2))"
   ],
   "metadata": {
    "collapsed": false,
    "pycharm": {
     "name": "#%%\n"
    }
   }
  },
  {
   "cell_type": "code",
   "execution_count": 11,
   "outputs": [
    {
     "name": "stdout",
     "output_type": "stream",
     "text": [
      "Plain ol Apple\n",
      "{\n",
      "  \"took\": 2,\n",
      "  \"timed_out\": false,\n",
      "  \"_shards\": {\n",
      "    \"total\": 1,\n",
      "    \"successful\": 1,\n",
      "    \"skipped\": 0,\n",
      "    \"failed\": 0\n",
      "  },\n",
      "  \"hits\": {\n",
      "    \"total\": {\n",
      "      \"value\": 1,\n",
      "      \"relation\": \"eq\"\n",
      "    },\n",
      "    \"max_score\": 2.6311197,\n",
      "    \"hits\": [\n",
      "      {\n",
      "        \"_index\": \"searchml_week2\",\n",
      "        \"_type\": \"_doc\",\n",
      "        \"_id\": \"doc_e\",\n",
      "        \"_score\": 2.6311197,\n",
      "        \"_source\": {\n",
      "          \"id\": \"doc_e\",\n",
      "          \"title\": \"Green apples and Spam\",\n",
      "          \"price\": \"2.99\",\n",
      "          \"in_stock\": true,\n",
      "          \"body\": \"The little green apple fell from the tree.  It was not a bad apple, so no one could understand why it fell.\",\n",
      "          \"category\": \"childrens\",\n",
      "          \"body_sentences\": \"__SB__ The little green apple fell from the tree. __SE__ __SB__ It was not a bad apple, so no one could understand why it fell. __SE__\",\n",
      "          \"body_pos\": \"The#__DT__ little#__JJ__ green#__JJ__ apple#__NN__ fell#__VBD__ from#__IN__ the#__DT__ tree#__NN__ .#__.__ It#__PRP__ was#__VBD__ not#__RB__ a#__DT__ bad#__JJ__ apple#__NN__ ,#__,__ so#__IN__ no#__DT__ one#__NN__ could#__MD__ understand#__VB__ why#__WRB__ it#__PRP__ fell#__VBD__ .#__.__\",\n",
      "          \"body_ne\": \"\"\n",
      "        }\n",
      "      }\n",
      "    ]\n",
      "  }\n",
      "}\n"
     ]
    }
   ],
   "source": [
    "print(\"Plain ol Apple\")\n",
    "# Do fine Apple as a common noun\n",
    "q = 'apple#__NN__'\n",
    "query = {\n",
    "    'size': 5,\n",
    "    'query': {\n",
    "        'query_string': {\n",
    "            'query': q,\n",
    "            'fields': ['body_pos']\n",
    "        }\n",
    "    }\n",
    "}\n",
    "\n",
    "rsp = client.search(\n",
    "    body=query,\n",
    "    index=index_name\n",
    ")\n",
    "\n",
    "print(json.dumps(rsp, indent=2))"
   ],
   "metadata": {
    "collapsed": false,
    "pycharm": {
     "name": "#%%\n"
    }
   }
  },
  {
   "cell_type": "code",
   "execution_count": 12,
   "outputs": [
    {
     "name": "stdout",
     "output_type": "stream",
     "text": [
      "{\n",
      "  \"took\": 22,\n",
      "  \"timed_out\": false,\n",
      "  \"_shards\": {\n",
      "    \"total\": 1,\n",
      "    \"successful\": 1,\n",
      "    \"skipped\": 0,\n",
      "    \"failed\": 0\n",
      "  },\n",
      "  \"hits\": {\n",
      "    \"total\": {\n",
      "      \"value\": 1,\n",
      "      \"relation\": \"eq\"\n",
      "    },\n",
      "    \"max_score\": 7.04297,\n",
      "    \"hits\": [\n",
      "      {\n",
      "        \"_index\": \"searchml_week2\",\n",
      "        \"_type\": \"_doc\",\n",
      "        \"_id\": \"doc_f\",\n",
      "        \"_score\": 7.04297,\n",
      "        \"_source\": {\n",
      "          \"id\": \"doc_f\",\n",
      "          \"title\": \"Fun with Spans\",\n",
      "          \"price\": \"4.99\",\n",
      "          \"in_stock\": true,\n",
      "          \"body\": \"Dan is the President. The United States Government has arrested him.\",\n",
      "          \"category\": \"childrens\",\n",
      "          \"body_sentences\": \"__SB__ Dan is the President. __SE__ __SB__ The United States Government has arrested him. __SE__\",\n",
      "          \"body_pos\": \"Dan#__NNP__ is#__VBZ__ the#__DT__ President#__NNP__ .#__.__ The#__DT__ United#__NNP__ States#__NNPS__ Government#__NNP__ has#__VBZ__ arrested#__VBN__ him#__PRP__ .#__.__\",\n",
      "          \"body_ne\": \"President Government \"\n",
      "        }\n",
      "      }\n",
      "    ]\n",
      "  }\n",
      "}\n"
     ]
    }
   ],
   "source": [
    "# Sentence query.  going to use a new type of query called a SpanQuery\n",
    "q = 'President United States'  # should return one match\n",
    "query = {\n",
    "    'size': 5,\n",
    "    'query': {\n",
    "        'query_string': {\n",
    "            'query': q,\n",
    "            'fields': ['body_pos']\n",
    "        }\n",
    "    }\n",
    "}\n",
    "\n",
    "rsp = client.search(\n",
    "    body=query,\n",
    "    index=index_name\n",
    ")\n",
    "\n",
    "print(json.dumps(rsp, indent=2))"
   ],
   "metadata": {
    "collapsed": false,
    "pycharm": {
     "name": "#%%\n"
    }
   }
  },
  {
   "cell_type": "code",
   "execution_count": 13,
   "outputs": [
    {
     "name": "stdout",
     "output_type": "stream",
     "text": [
      "{\n",
      "  \"took\": 56,\n",
      "  \"timed_out\": false,\n",
      "  \"_shards\": {\n",
      "    \"total\": 1,\n",
      "    \"successful\": 1,\n",
      "    \"skipped\": 0,\n",
      "    \"failed\": 0\n",
      "  },\n",
      "  \"hits\": {\n",
      "    \"total\": {\n",
      "      \"value\": 0,\n",
      "      \"relation\": \"eq\"\n",
      "    },\n",
      "    \"max_score\": null,\n",
      "    \"hits\": []\n",
      "  }\n",
      "}\n"
     ]
    }
   ],
   "source": [
    "# Should return no match\n",
    "query = {\n",
    "    'size': 5,\n",
    "    'query': {\n",
    "        \"span_within\":{\n",
    "            \"little\":{\n",
    "                \"span_near\": {\n",
    "                    \"clauses\":[\n",
    "                        {\"span_term\": {\"body_sentences\": \"President\"}},\n",
    "                        {\"span_term\": {\"body_sentences\": \"United\"}},\n",
    "                        {\"span_term\": {\"body_sentences\": \"States\"}}\n",
    "                    ]\n",
    "                }\n",
    "            },\n",
    "            \"big\":{\n",
    "                \"span_near\": {\n",
    "                    \"clauses\":[\n",
    "                        {\"span_term\": {\"body_sentences\": \"__SB__\"}},\n",
    "                        {\"span_term\": {\"body_sentences\": \"__SE__\"}},\n",
    "                    ]\n",
    "                }\n",
    "            }\n",
    "        }\n",
    "    }\n",
    "}\n",
    "\n",
    "rsp = client.search(\n",
    "    body=query,\n",
    "    index=index_name\n",
    ")\n",
    "\n",
    "print(json.dumps(rsp, indent=2))"
   ],
   "metadata": {
    "collapsed": false,
    "pycharm": {
     "name": "#%%\n"
    }
   }
  },
  {
   "cell_type": "code",
   "execution_count": null,
   "outputs": [],
   "source": [],
   "metadata": {
    "collapsed": false,
    "pycharm": {
     "name": "#%%\n"
    }
   }
  }
 ],
 "metadata": {
  "kernelspec": {
   "display_name": "Python 3",
   "language": "python",
   "name": "python3"
  },
  "language_info": {
   "codemirror_mode": {
    "name": "ipython",
    "version": 2
   },
   "file_extension": ".py",
   "mimetype": "text/x-python",
   "name": "python",
   "nbconvert_exporter": "python",
   "pygments_lexer": "ipython2",
   "version": "2.7.6"
  }
 },
 "nbformat": 4,
 "nbformat_minor": 0
}