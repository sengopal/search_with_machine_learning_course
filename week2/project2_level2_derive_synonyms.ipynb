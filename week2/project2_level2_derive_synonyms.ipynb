{
 "cells": [
  {
   "cell_type": "code",
   "execution_count": 1,
   "outputs": [],
   "source": [
    "!shuf /Users/sengopal/build/my-git/search_with_machine_learning_course/datasets/fasttext/labeled_products.txt > shuffled_labeled_products.txt"
   ],
   "metadata": {
    "collapsed": false,
    "pycharm": {
     "name": "#%%\n"
    }
   }
  },
  {
   "cell_type": "code",
   "execution_count": 2,
   "outputs": [],
   "source": [
    "!cut -d' ' -f2- shuffled_labeled_products.txt > titles.txt"
   ],
   "metadata": {
    "collapsed": false,
    "pycharm": {
     "name": "#%%\n"
    }
   }
  },
  {
   "cell_type": "code",
   "execution_count": 18,
   "outputs": [
    {
     "name": "stderr",
     "output_type": "stream",
     "text": [
      "Read 1M words\n",
      "Number of words:  10873\n",
      "Number of labels: 0\n",
      "Progress: 100.0% words/sec/thread:  113264 lr:  0.000000 avg.loss:  1.348316 ETA:   0h 0m 0s 22.5% words/sec/thread:  108907 lr:  0.038732 avg.loss:  2.020800 ETA:   0h 0m 2s\n"
     ]
    }
   ],
   "source": [
    "import fasttext\n",
    "model = fasttext.train_unsupervised('titles.txt', model='skipgram')\n",
    "model.save_model(\"title_model.bin\")"
   ],
   "metadata": {
    "collapsed": false,
    "pycharm": {
     "name": "#%%\n"
    }
   }
  },
  {
   "cell_type": "code",
   "execution_count": 7,
   "outputs": [
    {
     "data": {
      "text/plain": "array([ 0.3807879 , -0.22219235,  0.59162015, -0.22762561,  0.23182288,\n       -0.017939  , -0.509992  ,  0.46780005, -0.8493677 , -0.6841977 ,\n       -0.7906855 ,  0.10398686, -0.29312587,  0.47637662,  0.03579673,\n        0.04495218, -0.12097336,  0.34925905,  0.39664528,  0.03195878,\n       -0.24433699, -0.02119682, -0.17227699, -0.34805632,  0.70950973,\n        0.04038798, -0.7949804 ,  0.12436639, -0.42385155,  0.00722356,\n       -0.33765998,  0.04304973,  0.5208409 , -0.3212637 , -0.8989687 ,\n       -0.25884536, -0.11691581, -0.10075706, -0.23288041,  0.34390903,\n       -0.65370196, -0.01445638,  0.00646704,  0.67083275, -0.17073728,\n        0.1253995 ,  0.57480973,  0.86093134,  0.23211099,  0.62592614,\n       -0.38145977,  0.34182265,  0.1758906 , -0.86634845, -0.20986621,\n       -0.04895779, -0.2776226 , -0.10632251,  1.0369415 ,  0.17455661,\n        0.25644055,  0.10415311,  0.37157017,  1.0384551 , -0.28423372,\n        0.679865  ,  0.01889325,  0.30486622, -0.35511935, -0.45438486,\n        0.44565737,  0.01568636, -0.2851991 , -0.01443313, -0.07044258,\n       -0.42319694, -0.3349541 ,  0.69651735, -0.8435464 , -0.06694163,\n        0.03135891, -0.03406271,  1.0664374 ,  0.14013736,  0.01207286,\n       -0.27755192, -0.42281964, -0.78988814, -1.0120791 ,  0.03542043,\n        0.9065658 , -0.5321973 ,  0.47131252, -0.2382964 ,  0.05259744,\n       -0.65537053, -0.5481532 ,  0.6818586 ,  0.2726314 , -0.47367772],\n      dtype=float32)"
     },
     "execution_count": 7,
     "metadata": {},
     "output_type": "execute_result"
    }
   ],
   "source": [
    "model.get_word_vector(\"Apple\")"
   ],
   "metadata": {
    "collapsed": false,
    "pycharm": {
     "name": "#%%\n"
    }
   }
  },
  {
   "cell_type": "code",
   "execution_count": 8,
   "outputs": [
    {
     "data": {
      "text/plain": "[(0.8422667384147644, 'Speakerphone'),\n (0.8415432572364807, 'Saxophone'),\n (0.8220111727714539, 'Telephone'),\n (0.8158165216445923, 'Microphone'),\n (0.8057573437690735, 'Ozone'),\n (0.7997095584869385, 'Earphones'),\n (0.7992080450057983, 'GoPhone'),\n (0.7827997803688049, 'Phone'),\n (0.7743585109710693, 'Headphone'),\n (0.7713776230812073, 'Telephones')]"
     },
     "execution_count": 8,
     "metadata": {},
     "output_type": "execute_result"
    }
   ],
   "source": [
    "model.get_nearest_neighbors('iphone')"
   ],
   "metadata": {
    "collapsed": false,
    "pycharm": {
     "name": "#%%\n"
    }
   }
  },
  {
   "cell_type": "code",
   "execution_count": 9,
   "outputs": [
    {
     "data": {
      "text/plain": "[(0.9509408473968506, 'iPhone®,'),\n (0.9357849359512329, 'iPhone®'),\n (0.8401271104812622, 'iPod®/iPhone'),\n (0.8225985765457153, 'iPod®/iPhone®'),\n (0.8134135603904724, '3GS,'),\n (0.8130345940589905, '4S'),\n (0.8004220724105835, '3G,'),\n (0.7890415787696838, '3GS'),\n (0.7731471061706543, '3G/3GS'),\n (0.7690742611885071, '3G/3G')]"
     },
     "execution_count": 9,
     "metadata": {},
     "output_type": "execute_result"
    }
   ],
   "source": [
    "model.get_nearest_neighbors('iPhone')"
   ],
   "metadata": {
    "collapsed": false,
    "pycharm": {
     "name": "#%%\n"
    }
   }
  },
  {
   "cell_type": "code",
   "execution_count": 10,
   "outputs": [],
   "source": [
    "# Normalize the product names in titles.txt by converting them to lowercase, removing unusual characters, stemming, and anything else you can think of to make the model’s job easier\n",
    "!cat titles.txt | sed -e \"s/\\([.\\!?,'/()]\\)/ \\1 /g\" | tr \"[:upper:]\" \"[:lower:]\" | sed \"s/[^[:alnum:]]/ /g\" | tr -s ' ' > normalized_titles.txt"
   ],
   "metadata": {
    "collapsed": false,
    "pycharm": {
     "name": "#%%\n"
    }
   }
  },
  {
   "cell_type": "code",
   "execution_count": 19,
   "outputs": [
    {
     "name": "stderr",
     "output_type": "stream",
     "text": [
      "Read 1M words\n",
      "Number of words:  8903\n",
      "Number of labels: 0\n",
      "Progress: 100.0% words/sec/thread:  117274 lr:  0.000000 avg.loss:  1.463268 ETA:   0h 0m 0s\n"
     ]
    }
   ],
   "source": [
    "import fasttext\n",
    "model_norm = fasttext.train_unsupervised('normalized_titles.txt', model='skipgram')\n",
    "model_norm.save_model(\"norm_title_model.bin\")"
   ],
   "metadata": {
    "collapsed": false,
    "pycharm": {
     "name": "#%%\n"
    }
   }
  },
  {
   "cell_type": "code",
   "execution_count": 12,
   "outputs": [
    {
     "data": {
      "text/plain": "[(0.8816536664962769, '4s'),\n (0.8064177632331848, '3gs'),\n (0.7923829555511475, 'apple'),\n (0.7511950135231018, 'ifrogz'),\n (0.7275324463844299, 'ipadâ'),\n (0.7089876532554626, 'appleâ'),\n (0.7025899291038513, 'ozone'),\n (0.6959519982337952, 'fabshell'),\n (0.6865083575248718, 'ipodâ'),\n (0.6858565807342529, 'amethyst')]"
     },
     "execution_count": 12,
     "metadata": {},
     "output_type": "execute_result"
    }
   ],
   "source": [
    "model_norm.get_nearest_neighbors('iphone')"
   ],
   "metadata": {
    "collapsed": false,
    "pycharm": {
     "name": "#%%\n"
    }
   }
  },
  {
   "cell_type": "code",
   "execution_count": 14,
   "outputs": [],
   "source": [
    "def get_neighbours(model, query, threshold=0.1):\n",
    "    results = model.get_nearest_neighbors(query)\n",
    "    neighbours = []\n",
    "    for result in results:\n",
    "        if result[0] >= threshold:\n",
    "            neighbours.append(result[1])\n",
    "    return neighbours"
   ],
   "metadata": {
    "collapsed": false,
    "pycharm": {
     "name": "#%%\n"
    }
   }
  },
  {
   "cell_type": "code",
   "execution_count": 33,
   "outputs": [
    {
     "name": "stderr",
     "output_type": "stream",
     "text": [
      "Read 1M words\n",
      "Number of words:  8903\n",
      "Number of labels: 0\n",
      "Progress: 100.0% words/sec/thread:  126704 lr:  0.000000 avg.loss:  1.094752 ETA:   0h 0m 0s 23.4% words/sec/thread:  122189 lr:  0.038289 avg.loss:  1.396264 ETA:   0h 0m11s 0.018127 avg.loss:  1.180122 ETA:   0h 0m 5s\n"
     ]
    }
   ],
   "source": [
    "### Higher training epoch\n",
    "model_epochs25 = fasttext.train_unsupervised('normalized_titles.txt', model='skipgram',epoch=25)\n",
    "model_epochs25.save_model(\"epochs25_title_model.bin\")"
   ],
   "metadata": {
    "collapsed": false,
    "pycharm": {
     "name": "#%%\n"
    }
   }
  },
  {
   "cell_type": "code",
   "execution_count": 25,
   "outputs": [
    {
     "name": "stderr",
     "output_type": "stream",
     "text": [
      "Read 1M words\n",
      "Number of words:  3861\n",
      "Number of labels: 0\n",
      "Progress: 100.0% words/sec/thread:  129660 lr:  0.000000 avg.loss:  1.220499 ETA:   0h 0m 0s\n"
     ]
    }
   ],
   "source": [
    "### Higher training epoch\n",
    "model_minCount20 = fasttext.train_unsupervised('normalized_titles.txt', model='skipgram',epoch=25, minCount=20)\n",
    "model_minCount20.save_model(\"minCount20_title_model.bin\")"
   ],
   "metadata": {
    "collapsed": false,
    "pycharm": {
     "name": "#%%\n"
    }
   }
  },
  {
   "cell_type": "code",
   "execution_count": 27,
   "outputs": [
    {
     "name": "stderr",
     "output_type": "stream",
     "text": [
      "Read 1M words\n",
      "Number of words:  5904\n",
      "Number of labels: 0\n",
      "Progress: 100.0% words/sec/thread:  109659 lr:  0.000000 avg.loss:  1.004666 ETA:   0h 0m 0s 62.5% words/sec/thread:  115889 lr:  0.018747 avg.loss:  1.057903 ETA:   0h 0m24s\n"
     ]
    }
   ],
   "source": [
    "### Higher training epoch\n",
    "model_minCount10 = fasttext.train_unsupervised('normalized_titles.txt', model='skipgram', epoch=100, minCount=10)\n",
    "model_minCount10.save_model(\"minCount10_title_model.bin\")"
   ],
   "metadata": {
    "collapsed": false,
    "pycharm": {
     "name": "#%%\n"
    }
   }
  },
  {
   "cell_type": "code",
   "execution_count": 41,
   "outputs": [
    {
     "name": "stdout",
     "output_type": "stream",
     "text": [
      "model_epochs25 - iphone: ['4s', 'apple', 'ipod', 'ipad']\n",
      "model_epochs25 - headphones: ['earbud', 'ear', 'headphone', 'uprock']\n",
      "model_epochs25 - laptop: ['netbook', 'notebook']\n",
      "model_epochs25 - freezer: ['freezers', 'refrigerator', 'mug', 'cu']\n",
      "model_epochs25 - nintendo: ['ds', 'wii', 'nintendogs', '3ds']\n",
      "model_epochs25 - whirlpool: ['frigidaire', 'maytag', 'biscuit', 'ge']\n",
      "model_epochs25 - kodak: ['easyshare', 'm763', 'c813']\n",
      "model_epochs25 - ps2: ['playstation', 'xbox', 'ps3', 'gamecube']\n",
      "model_epochs25 - razr: ['motorola', 'krzr', 'droid', 't720']\n",
      "model_epochs25 - stratocaster: ['telecaster', 'strat', 'fender', 'starcaster']\n",
      "model_epochs25 - holiday: ['holidays', 'vibes', 'stocking', 'nobr']\n",
      "model_epochs25 - plasma: ['600hz', '480hz', '42']\n",
      "model_epochs25 - leather: ['leatherskin', 'armless', 'hipcase']\n"
     ]
    }
   ],
   "source": [
    "# models = {'baseline': model, 'normalized': model_norm, 'model_minCount10': model_minCount10, 'model_epochs25': model_epochs25, 'model_minCount20': model_minCount20}\n",
    "models = {'model_epochs25': model_epochs25}\n",
    "query_list = ['iphone', 'headphones', 'laptop', 'freezer', 'nintendo', 'whirlpool', 'kodak', 'ps2', 'razr', 'stratocaster', 'holiday', 'plasma', 'leather']\n",
    "for query in query_list:\n",
    "    for model_name, m in models.items():\n",
    "        print(f'{model_name} - {query}: {get_neighbours(m,query,0.65)[0:4]}')"
   ],
   "metadata": {
    "collapsed": false,
    "pycharm": {
     "name": "#%%\n"
    }
   }
  },
  {
   "cell_type": "code",
   "execution_count": 43,
   "outputs": [
    {
     "name": "stdout",
     "output_type": "stream",
     "text": [
      "headphones: ['earbud', 'ear', 'headphone']\n",
      "laptop: ['netbook', 'notebook']\n",
      "freezer: ['freezers', 'refrigerator', 'mug']\n",
      "nintendo: ['ds', 'wii', 'nintendogs']\n",
      "whirlpool: ['frigidaire', 'maytag', 'biscuit']\n",
      "kodak: ['easyshare', 'm763', 'c813']\n",
      "ps2: ['playstation', 'xbox', 'ps3']\n",
      "razr: ['motorola', 'krzr', 'droid']\n",
      "stratocaster: ['telecaster', 'strat', 'fender']\n",
      "holiday: ['holidays', 'vibes', 'stocking']\n",
      "plasma: ['600hz', '480hz', '42']\n",
      "leather: ['leatherskin', 'armless', 'hipcase']\n"
     ]
    }
   ],
   "source": [
    "models = {'model_epochs25': model_epochs25}\n",
    "query_list = ['headphones', 'laptop', 'freezer', 'nintendo', 'whirlpool', 'kodak', 'ps2', 'razr', 'stratocaster', 'holiday', 'plasma', 'leather']\n",
    "for query in query_list:\n",
    "    for model_name, m in models.items():\n",
    "        print(f'{query}: {get_neighbours(m,query,0.65)[0:3]}')"
   ],
   "metadata": {
    "collapsed": false,
    "pycharm": {
     "name": "#%%\n"
    }
   }
  },
  {
   "cell_type": "code",
   "execution_count": null,
   "outputs": [],
   "source": [],
   "metadata": {
    "collapsed": false,
    "pycharm": {
     "name": "#%%\n"
    }
   }
  }
 ],
 "metadata": {
  "kernelspec": {
   "display_name": "Python 3",
   "language": "python",
   "name": "python3"
  },
  "language_info": {
   "codemirror_mode": {
    "name": "ipython",
    "version": 2
   },
   "file_extension": ".py",
   "mimetype": "text/x-python",
   "name": "python",
   "nbconvert_exporter": "python",
   "pygments_lexer": "ipython2",
   "version": "2.7.6"
  }
 },
 "nbformat": 4,
 "nbformat_minor": 0
}