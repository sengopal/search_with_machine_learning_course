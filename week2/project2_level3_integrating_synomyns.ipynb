{
 "cells": [
  {
   "cell_type": "code",
   "execution_count": 2,
   "outputs": [
    {
     "name": "stdout",
     "output_type": "stream",
     "text": [
      "sort: Broken pipe\r\n"
     ]
    }
   ],
   "source": [
    "# obtain the 1,000 most frequent words\n",
    "!cat normalized_titles.txt | tr \" \" \"\\n\" | grep \"....\" | sort | uniq -c | sort -nr | head -1000 | grep -oE '[^ ]+$' > top_words.txt"
   ],
   "metadata": {
    "collapsed": false,
    "pycharm": {
     "name": "#%%\n"
    }
   }
  },
  {
   "cell_type": "code",
   "execution_count": 3,
   "outputs": [],
   "source": [
    "def get_neighbours(model, query, threshold=0.1):\n",
    "    results = model.get_nearest_neighbors(query)\n",
    "    neighbours = []\n",
    "    for result in results:\n",
    "        if result[0] >= threshold:\n",
    "            neighbours.append(result[1])\n",
    "    return neighbours"
   ],
   "metadata": {
    "collapsed": false,
    "pycharm": {
     "name": "#%%\n"
    }
   }
  },
  {
   "cell_type": "code",
   "execution_count": 15,
   "outputs": [
    {
     "name": "stderr",
     "output_type": "stream",
     "text": [
      "Warning : `load_model` does not return WordVectorModel or SupervisedModel any more, but a `FastText` object which is very similar.\n"
     ]
    }
   ],
   "source": [
    "import fasttext\n",
    "model_epochs25 = fasttext.load_model(\"epochs25_title_model.bin\")"
   ],
   "metadata": {
    "collapsed": false,
    "pycharm": {
     "name": "#%%\n"
    }
   }
  },
  {
   "cell_type": "code",
   "execution_count": 16,
   "outputs": [
    {
     "data": {
      "text/plain": "[(0.8673823475837708, '4s'),\n (0.8487353920936584, 'apple'),\n (0.8047859072685242, 'ipod'),\n (0.7243606448173523, 'ipad'),\n (0.6965983510017395, '3gs'),\n (0.6798641085624695, 'fabshell'),\n (0.6634081602096558, '4th'),\n (0.6347259879112244, 'nauticase'),\n (0.6113036870956421, 'slimshell'),\n (0.6056530475616455, 'candyshell')]"
     },
     "execution_count": 16,
     "metadata": {},
     "output_type": "execute_result"
    }
   ],
   "source": [
    "model_epochs25.get_nearest_neighbors('iphone')"
   ],
   "metadata": {
    "collapsed": false,
    "pycharm": {
     "name": "#%%\n"
    }
   }
  },
  {
   "cell_type": "code",
   "execution_count": 17,
   "outputs": [],
   "source": [
    "filepath = 'top_words.txt'\n",
    "op_file = open('synonyms.csv','w')\n",
    "\n",
    "with open(filepath) as fp:\n",
    "   line = fp.readline()\n",
    "   while line:\n",
    "       line = line.strip()\n",
    "       synonyms = get_neighbours(model_epochs25, line, 0.65)\n",
    "       synonym_entry = f\"{line},{','.join(synonyms)}\\n\"\n",
    "       op_file.write(synonym_entry)\n",
    "       line = fp.readline()\n",
    "\n",
    "op_file.close()"
   ],
   "metadata": {
    "collapsed": false,
    "pycharm": {
     "name": "#%%\n"
    }
   }
  },
  {
   "cell_type": "code",
   "execution_count": 18,
   "outputs": [],
   "source": [
    "# Since OpenSearch is running in a Docker container, we need to copy the synonyms.csv file to the container. This directory is mounted in docker-compose\n",
    "!cp synonyms.csv /Users/sengopal/build/my-git/search_with_machine_learning_course/docker/config/"
   ],
   "metadata": {
    "collapsed": false,
    "pycharm": {
     "name": "#%%\n"
    }
   }
  },
  {
   "cell_type": "code",
   "execution_count": null,
   "outputs": [],
   "source": [],
   "metadata": {
    "collapsed": false,
    "pycharm": {
     "name": "#%%\n"
    }
   }
  }
 ],
 "metadata": {
  "kernelspec": {
   "display_name": "Python 3",
   "language": "python",
   "name": "python3"
  },
  "language_info": {
   "codemirror_mode": {
    "name": "ipython",
    "version": 2
   },
   "file_extension": ".py",
   "mimetype": "text/x-python",
   "name": "python",
   "nbconvert_exporter": "python",
   "pygments_lexer": "ipython2",
   "version": "2.7.6"
  }
 },
 "nbformat": 4,
 "nbformat_minor": 0
}