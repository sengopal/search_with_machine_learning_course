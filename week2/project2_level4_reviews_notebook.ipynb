{
 "cells": [
  {
   "cell_type": "code",
   "execution_count": 3,
   "outputs": [
    {
     "data": {
      "text/plain": "['blu',\n 'ray',\n 'problem',\n 'star',\n 'trek',\n 'as',\n 'a',\n 'movi',\n 'is',\n 'brilliant..but',\n 'there',\n 'is',\n 'someth',\n 'wrong',\n 'with',\n 'the',\n 'blu',\n 'ray',\n 'movie..mi',\n 'player',\n 'is',\n 'good',\n 'becaus',\n 'it',\n 'play',\n 'other',\n 'movi',\n 'just',\n 'great...th',\n 'star',\n 'trek',\n '3',\n 'disc',\n 'bundl',\n 'come',\n 'with',\n 'a',\n 'pc',\n 'format',\n 'movi',\n 'also...and',\n 'thi',\n 'also',\n 'show',\n 'those',\n 'blue',\n 'lines/shad',\n '...so',\n 'i',\n 'think',\n \"it'\",\n 'not',\n 'the',\n 'blu',\n 'ray',\n 'or',\n 'my',\n 'player...someth',\n 'is',\n 'strang',\n 'the',\n 'way',\n 'these',\n 'guy',\n 'made',\n 'these',\n 'discs...i',\n 'exchang',\n 'the',\n 'discs,',\n 'but',\n 'same',\n 'problem....',\n \"what'\",\n 'go',\n 'on!!!!']"
     },
     "execution_count": 3,
     "metadata": {},
     "output_type": "execute_result"
    }
   ],
   "source": [
    "from nltk.stem import PorterStemmer\n",
    "from nltk import word_tokenize\n",
    "text = \"Blu Ray Problem Star Trek as a movie is brilliant..but there is something wrong with the blu ray movie..My player is good because it plays other movies just great...The star trek 3 disc bundle comes with a pc format movie also...and this also shows those blue lines/shades ...so I think it's not the blu ray or my player...something is strange the way these guys made these discs...I exchanged the discs, but same problem.... what's going on!!!!\"\n",
    "porter = PorterStemmer()\n",
    "[porter.stem(word) for word in text.split()]"
   ],
   "metadata": {
    "collapsed": false,
    "pycharm": {
     "name": "#%%\n"
    }
   }
  },
  {
   "cell_type": "code",
   "execution_count": 4,
   "outputs": [
    {
     "data": {
      "text/plain": "['blu',\n 'ray',\n 'problem',\n 'star',\n 'trek',\n 'as',\n 'a',\n 'movi',\n 'is',\n 'brilliant',\n '..',\n 'but',\n 'there',\n 'is',\n 'someth',\n 'wrong',\n 'with',\n 'the',\n 'blu',\n 'ray',\n 'movi',\n '..',\n 'my',\n 'player',\n 'is',\n 'good',\n 'becaus',\n 'it',\n 'play',\n 'other',\n 'movi',\n 'just',\n 'great',\n '...',\n 'the',\n 'star',\n 'trek',\n '3',\n 'disc',\n 'bundl',\n 'come',\n 'with',\n 'a',\n 'pc',\n 'format',\n 'movi',\n 'also',\n '...',\n 'and',\n 'thi',\n 'also',\n 'show',\n 'those',\n 'blue',\n 'lines/shad',\n '...',\n 'so',\n 'i',\n 'think',\n 'it',\n \"'s\",\n 'not',\n 'the',\n 'blu',\n 'ray',\n 'or',\n 'my',\n 'player',\n '...',\n 'someth',\n 'is',\n 'strang',\n 'the',\n 'way',\n 'these',\n 'guy',\n 'made',\n 'these',\n 'disc',\n '...',\n 'i',\n 'exchang',\n 'the',\n 'disc',\n ',',\n 'but',\n 'same',\n 'problem',\n '....',\n 'what',\n \"'s\",\n 'go',\n 'on',\n '!',\n '!',\n '!',\n '!']"
     },
     "execution_count": 4,
     "metadata": {},
     "output_type": "execute_result"
    }
   ],
   "source": [
    "[porter.stem(word) for word in word_tokenize(text)]"
   ],
   "metadata": {
    "collapsed": false,
    "pycharm": {
     "name": "#%%\n"
    }
   }
  },
  {
   "cell_type": "code",
   "execution_count": null,
   "outputs": [],
   "source": [
    " # !python createReviewLabels.py --output /Users/sengopal/build/my-git/search_with_machine_learning_course/datasets/fasttext/labelled_reviews.txt"
   ],
   "metadata": {
    "collapsed": false,
    "pycharm": {
     "name": "#%%\n"
    }
   }
  },
  {
   "cell_type": "code",
   "execution_count": 8,
   "outputs": [],
   "source": [
    "!shuf /Users/sengopal/build/my-git/search_with_machine_learning_course/datasets/fasttext/labelled_reviews.txt > shuffled_labeled_reviews.txt"
   ],
   "metadata": {
    "collapsed": false,
    "pycharm": {
     "name": "#%%\n"
    }
   }
  },
  {
   "cell_type": "code",
   "execution_count": 9,
   "outputs": [
    {
     "name": "stdout",
     "output_type": "stream",
     "text": [
      "  221771 shuffled_labeled_reviews.txt\r\n"
     ]
    }
   ],
   "source": [
    "!wc -l shuffled_labeled_reviews.txt"
   ],
   "metadata": {
    "collapsed": false,
    "pycharm": {
     "name": "#%%\n"
    }
   }
  },
  {
   "cell_type": "code",
   "execution_count": 11,
   "outputs": [],
   "source": [
    "!head -n 10000 shuffled_labeled_reviews.txt > reviews_training_data.txt\n",
    "!tail -n 10000 shuffled_labeled_reviews.txt > reviews_test_data.txt"
   ],
   "metadata": {
    "collapsed": false,
    "pycharm": {
     "name": "#%%\n"
    }
   }
  },
  {
   "cell_type": "code",
   "execution_count": 15,
   "outputs": [
    {
     "name": "stderr",
     "output_type": "stream",
     "text": [
      "Read 0M words\n",
      "Number of words:  19303\n",
      "Number of labels: 5\n",
      "Progress: 100.0% words/sec/thread:  717621 lr:  0.000000 avg.loss:  0.019600 ETA:   0h 0m 0s\n"
     ]
    },
    {
     "data": {
      "text/plain": "(10000, 0.6839, 0.6839)"
     },
     "execution_count": 15,
     "metadata": {},
     "output_type": "execute_result"
    }
   ],
   "source": [
    "# Train the model using fasttext supervised\n",
    "import fasttext\n",
    "\n",
    "reviews_classifier = fasttext.train_supervised(input=\"reviews_training_data.txt\", lr=0.65, epoch=300, wordNgrams=3)\n",
    "reviews_classifier.test(\"reviews_test_data.txt\")"
   ],
   "metadata": {
    "collapsed": false,
    "pycharm": {
     "name": "#%%\n"
    }
   }
  },
  {
   "cell_type": "code",
   "execution_count": 13,
   "outputs": [
    {
     "data": {
      "text/plain": "(('__label__5.0',), array([0.99517983]))"
     },
     "execution_count": 13,
     "metadata": {},
     "output_type": "execute_result"
    }
   ],
   "source": [
    "reviews_classifier.predict(\"great cover ... i rare have use a phone cover , howev i would recommend use one it will save your phone if you would accident drop it ... and they come in great color !\")"
   ],
   "metadata": {
    "collapsed": false,
    "pycharm": {
     "name": "#%%\n"
    }
   }
  },
  {
   "cell_type": "code",
   "execution_count": null,
   "outputs": [],
   "source": [
    "## TODO: Experiment with the labels – after all, the labels represent ordered values. Can you achieve higher labeling accuracy if you map the ratings to a different scale, like “positive”, “negative”, and “neutral”?\n",
    "\n",
    "## TODO: Sentiment Analysis Explore string-based rules to see how well those predict ratings by making a list of good and bad words (maybe you can mine those from the reviews?). See how that compares – in accuracy and effort – to your machine learning models.\n",
    "\n",
    "## TODO: If you are really ambitious, index the reviews so you can search for them! You can also see what you find more helpful – the actual review score or the predicted one.\n",
    "\n"
   ],
   "metadata": {
    "collapsed": false,
    "pycharm": {
     "name": "#%%\n"
    }
   }
  }
 ],
 "metadata": {
  "kernelspec": {
   "display_name": "Python 3",
   "language": "python",
   "name": "python3"
  },
  "language_info": {
   "codemirror_mode": {
    "name": "ipython",
    "version": 2
   },
   "file_extension": ".py",
   "mimetype": "text/x-python",
   "name": "python",
   "nbconvert_exporter": "python",
   "pygments_lexer": "ipython2",
   "version": "2.7.6"
  }
 },
 "nbformat": 4,
 "nbformat_minor": 0
}