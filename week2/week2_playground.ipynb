{
 "cells": [
  {
   "cell_type": "code",
   "execution_count": null,
   "outputs": [],
   "source": [
    "import fasttext"
   ],
   "metadata": {
    "collapsed": false,
    "pycharm": {
     "name": "#%%\n"
    }
   }
  },
  {
   "cell_type": "code",
   "execution_count": 2,
   "outputs": [
    {
     "name": "stdout",
     "output_type": "stream",
     "text": [
      "--2022-06-28 14:51:45--  https://dl.fbaipublicfiles.com/fasttext/data/cooking.stackexchange.tar.gz\r\n",
      "Resolving dl.fbaipublicfiles.com (dl.fbaipublicfiles.com)... 172.67.9.4, 104.22.75.142, 104.22.74.142\r\n",
      "Connecting to dl.fbaipublicfiles.com (dl.fbaipublicfiles.com)|172.67.9.4|:443... connected.\r\n",
      "HTTP request sent, awaiting response... 200 OK\r\n",
      "Length: 457609 (447K) [application/x-tar]\r\n",
      "Saving to: ‘cooking.stackexchange.tar.gz’\r\n",
      "\r\n",
      "cooking.stackexchan 100%[===================>] 446.88K  --.-KB/s    in 0.1s    \r\n",
      "\r\n",
      "2022-06-28 14:51:45 (3.52 MB/s) - ‘cooking.stackexchange.tar.gz’ saved [457609/457609]\r\n",
      "\r\n"
     ]
    }
   ],
   "source": [
    "!wget https://dl.fbaipublicfiles.com/fasttext/data/cooking.stackexchange.tar.gz"
   ],
   "metadata": {
    "collapsed": false,
    "pycharm": {
     "name": "#%%\n"
    }
   }
  },
  {
   "cell_type": "code",
   "execution_count": 3,
   "outputs": [
    {
     "name": "stdout",
     "output_type": "stream",
     "text": [
      "x cooking.stackexchange.id\r\n",
      "x cooking.stackexchange.txt\r\n",
      "x readme.txt\r\n"
     ]
    }
   ],
   "source": [
    "!tar xvzf cooking.stackexchange.tar.gz"
   ],
   "metadata": {
    "collapsed": false,
    "pycharm": {
     "name": "#%%\n"
    }
   }
  },
  {
   "cell_type": "code",
   "execution_count": 4,
   "outputs": [
    {
     "name": "stdout",
     "output_type": "stream",
     "text": [
      "__label__sauce __label__cheese How much does potato starch affect a cheese sauce recipe?\r\n",
      "__label__food-safety __label__acidity Dangerous pathogens capable of growing in acidic environments\r\n",
      "__label__cast-iron __label__stove How do I cover up the white spots on my cast iron stove?\r\n",
      "__label__restaurant Michelin Three Star Restaurant; but if the chef is not there\r\n",
      "__label__knife-skills __label__dicing Without knife skills, how can I quickly and accurately dice vegetables?\r\n",
      "__label__storage-method __label__equipment __label__bread What's the purpose of a bread box?\r\n",
      "__label__baking __label__food-safety __label__substitutions __label__peanuts how to seperate peanut oil from roasted peanuts at home?\r\n",
      "__label__chocolate American equivalent for British chocolate terms\r\n",
      "__label__baking __label__oven __label__convection Fan bake vs bake\r\n",
      "__label__sauce __label__storage-lifetime __label__acidity __label__mayonnaise Regulation and balancing of readymade packed mayonnaise and other sauces\r\n"
     ]
    }
   ],
   "source": [
    "!head cooking.stackexchange.txt\n",
    "# each line is a single example in the training data, with the labels – there can be more than 1 label – in the form __label__X, followed by a line of text at the end. For example, the first line has the content “How much does potato starch affect a cheese sauce recipe?” and is labeled as both “sauce” and “cheese”."
   ],
   "metadata": {
    "collapsed": false,
    "pycharm": {
     "name": "#%%\n"
    }
   }
  },
  {
   "cell_type": "code",
   "execution_count": 5,
   "outputs": [],
   "source": [
    "# fastText training\n",
    "!head -12404 cooking.stackexchange.txt > cooking.train\n",
    "!tail -3000 cooking.stackexchange.txt > cooking.test"
   ],
   "metadata": {
    "collapsed": false,
    "pycharm": {
     "name": "#%%\n"
    }
   }
  },
  {
   "cell_type": "code",
   "execution_count": 17,
   "outputs": [
    {
     "name": "stderr",
     "output_type": "stream",
     "text": [
      "Read 0M words\n",
      "Number of words:  14543\n",
      "Number of labels: 735\n",
      "Progress: 100.0% words/sec/thread:   60903 lr:  0.000000 avg.loss:  9.907210 ETA:   0h 0m 0s\n"
     ]
    },
    {
     "data": {
      "text/plain": "(('__label__baking',), array([0.12350871]))"
     },
     "execution_count": 17,
     "metadata": {},
     "output_type": "execute_result"
    }
   ],
   "source": [
    "import fasttext\n",
    "\n",
    "# Train model\n",
    "model = fasttext.train_supervised(input=\"cooking.train\")\n",
    "\n",
    "# Test single prediction\n",
    "model.predict(\"easy recipe for sourdough bread ?\")"
   ],
   "metadata": {
    "collapsed": false,
    "pycharm": {
     "name": "#%%\n"
    }
   }
  },
  {
   "cell_type": "code",
   "execution_count": 18,
   "outputs": [
    {
     "name": "stdout",
     "output_type": "stream",
     "text": [
      "(('__label__substitutions',), array([0.1686313]))\n",
      "(('__label__baking',), array([0.10162595]))\n",
      "(('__label__substitutions',), array([0.09758869]))\n",
      "(('__label__baking',), array([0.07138634]))\n"
     ]
    }
   ],
   "source": [
    "## More predictions\n",
    "# Test single prediction\n",
    "print(model.predict(\"easy recipe for trouble?\"))\n",
    "print(model.predict(\"easy recipe for baking soda?\"))\n",
    "print(model.predict(\"easy recipe for catfish?\"))\n",
    "print(model.predict(\"easy recipe for frying a fish?\"))"
   ],
   "metadata": {
    "collapsed": false,
    "pycharm": {
     "name": "#%%\n"
    }
   }
  },
  {
   "cell_type": "code",
   "execution_count": 19,
   "outputs": [
    {
     "data": {
      "text/plain": "(3000, 0.14133333333333334, 0.06112152227187545)"
     },
     "execution_count": 19,
     "metadata": {},
     "output_type": "execute_result"
    }
   ],
   "source": [
    "# Evaluate on test data\n",
    "model.test(\"cooking.test\")\n",
    "\n",
    "# response format (N, P@1, R@1)"
   ],
   "metadata": {
    "collapsed": false,
    "pycharm": {
     "name": "#%%\n"
    }
   }
  },
  {
   "cell_type": "code",
   "execution_count": 20,
   "outputs": [
    {
     "data": {
      "text/plain": "(3000, 0.0676, 0.14617269713132477)"
     },
     "execution_count": 20,
     "metadata": {},
     "output_type": "execute_result"
    }
   ],
   "source": [
    "# try asking for the top 5\n",
    "model.test(\"cooking.test\", 5)\n",
    "\n",
    "# we’ve increased recall by adding additional predicted labels for each example, but we’ve lost precision, since our second through fifth best predictions are less likely to be more correct than our first one."
   ],
   "metadata": {
    "collapsed": false,
    "pycharm": {
     "name": "#%%\n"
    }
   }
  },
  {
   "cell_type": "markdown",
   "source": [
    "## Model Tuning"
   ],
   "metadata": {
    "collapsed": false,
    "pycharm": {
     "name": "#%% md\n"
    }
   }
  },
  {
   "cell_type": "code",
   "execution_count": 22,
   "outputs": [],
   "source": [
    "## Tokenization / Preprocessing\n",
    "# t they’re now in lowercase and that there are spaces separating out punctuation, which will result in a different tokenization.\n",
    "\n",
    "!cat cooking.stackexchange.txt | sed -e \"s/\\([.\\!?,'/()]\\)/ \\1 /g\" | tr \"[:upper:]\" \"[:lower:]\" > cooking.preprocessed.txt\n",
    "!head -12404 cooking.preprocessed.txt > cooking.train\n",
    "!tail -3000 cooking.preprocessed.txt > cooking.test"
   ],
   "metadata": {
    "collapsed": false,
    "pycharm": {
     "name": "#%%\n"
    }
   }
  },
  {
   "cell_type": "code",
   "execution_count": 24,
   "outputs": [
    {
     "name": "stdout",
     "output_type": "stream",
     "text": [
      "__label__sauce __label__cheese how much does potato starch affect a cheese sauce recipe ? \r\n",
      "__label__food-safety __label__acidity dangerous pathogens capable of growing in acidic environments\r\n",
      "__label__cast-iron __label__stove how do i cover up the white spots on my cast iron stove ? \r\n",
      "__label__restaurant michelin three star restaurant; but if the chef is not there\r\n",
      "__label__knife-skills __label__dicing without knife skills ,  how can i quickly and accurately dice vegetables ? \r\n",
      "__label__storage-method __label__equipment __label__bread what ' s the purpose of a bread box ? \r\n",
      "__label__baking __label__food-safety __label__substitutions __label__peanuts how to seperate peanut oil from roasted peanuts at home ? \r\n",
      "__label__chocolate american equivalent for british chocolate terms\r\n",
      "__label__baking __label__oven __label__convection fan bake vs bake\r\n",
      "__label__sauce __label__storage-lifetime __label__acidity __label__mayonnaise regulation and balancing of readymade packed mayonnaise and other sauces\r\n"
     ]
    }
   ],
   "source": [
    "!head -n 10 cooking.train"
   ],
   "metadata": {
    "collapsed": false,
    "pycharm": {
     "name": "#%%\n"
    }
   }
  },
  {
   "cell_type": "code",
   "execution_count": 25,
   "outputs": [
    {
     "name": "stderr",
     "output_type": "stream",
     "text": [
      "Read 0M words\n",
      "Number of words:  8952\n",
      "Number of labels: 735\n",
      "Progress: 100.0% words/sec/thread:   75870 lr:  0.000000 avg.loss:  9.810714 ETA:   0h 0m 0s\n"
     ]
    },
    {
     "data": {
      "text/plain": "(3000, 0.16433333333333333, 0.07106818509442121)"
     },
     "execution_count": 25,
     "metadata": {},
     "output_type": "execute_result"
    }
   ],
   "source": [
    "# Train model\n",
    "model = fasttext.train_supervised(input=\"cooking.train\")\n",
    "model.test('cooking.test')\n",
    "\n",
    "# at least see some improvement in precision and recall ("
   ],
   "metadata": {
    "collapsed": false,
    "pycharm": {
     "name": "#%%\n"
    }
   }
  },
  {
   "cell_type": "code",
   "execution_count": 26,
   "outputs": [
    {
     "name": "stderr",
     "output_type": "stream",
     "text": [
      "Read 0M words\n",
      "Number of words:  8952\n",
      "Number of labels: 735\n",
      "Progress: 100.0% words/sec/thread:   77361 lr:  0.000000 avg.loss:  7.184034 ETA:   0h 0m 0s\n"
     ]
    },
    {
     "data": {
      "text/plain": "(3000, 0.52, 0.22488107250973044)"
     },
     "execution_count": 26,
     "metadata": {},
     "output_type": "execute_result"
    }
   ],
   "source": [
    "# By default, fastText performs 5 epochs. Since we don’t have that much training data, let’s try increasing the number of epochs to 25:\n",
    "model = fasttext.train_supervised(input=\"cooking.train\", epoch=25)\n",
    "model.test(\"cooking.test\")\n",
    "\n",
    "#  but a precision above 50% is at least starting to look useful."
   ],
   "metadata": {
    "collapsed": false,
    "pycharm": {
     "name": "#%%\n"
    }
   }
  },
  {
   "cell_type": "code",
   "execution_count": 27,
   "outputs": [
    {
     "name": "stderr",
     "output_type": "stream",
     "text": [
      "Read 0M words\n",
      "Number of words:  8952\n",
      "Number of labels: 735\n",
      "Progress: 100.0% words/sec/thread:   68347 lr:  0.000000 avg.loss:  3.202423 ETA:   0h 0m 0s  0h 0m 3s\n"
     ]
    },
    {
     "data": {
      "text/plain": "(3000, 0.5493333333333333, 0.2375666714718178)"
     },
     "execution_count": 27,
     "metadata": {},
     "output_type": "execute_result"
    }
   ],
   "source": [
    "model = fasttext.train_supervised(input=\"cooking.train\", epoch=100)\n",
    "model.test(\"cooking.test\")\n",
    "\n",
    "#  clearly facing diminishing returns. Increasing the number of epochs can only get you so far."
   ],
   "metadata": {
    "collapsed": false,
    "pycharm": {
     "name": "#%%\n"
    }
   }
  },
  {
   "cell_type": "code",
   "execution_count": 28,
   "outputs": [
    {
     "name": "stderr",
     "output_type": "stream",
     "text": [
      "Read 0M words\n",
      "Number of words:  8952\n",
      "Number of labels: 735\n",
      "Progress: 100.0% words/sec/thread:   80304 lr:  0.000000 avg.loss:  4.499678 ETA:   0h 0m 0s\n"
     ]
    },
    {
     "data": {
      "text/plain": "(3000, 0.5816666666666667, 0.2515496612368459)"
     },
     "execution_count": 28,
     "metadata": {},
     "output_type": "execute_result"
    }
   ],
   "source": [
    "model = fasttext.train_supervised(input=\"cooking.train\", epoch=25, lr=1.0)\n",
    "model.test(\"cooking.test\")"
   ],
   "metadata": {
    "collapsed": false,
    "pycharm": {
     "name": "#%%\n"
    }
   }
  },
  {
   "cell_type": "code",
   "execution_count": 29,
   "outputs": [
    {
     "name": "stderr",
     "output_type": "stream",
     "text": [
      "Read 0M words\n",
      "Number of words:  8952\n",
      "Number of labels: 735\n",
      "Progress: 100.0% words/sec/thread:   82303 lr:  0.000000 avg.loss: 10.715544 ETA:   0h 0m 0s\n"
     ]
    },
    {
     "data": {
      "text/plain": "(3000, 0.096, 0.04151650569410408)"
     },
     "execution_count": 29,
     "metadata": {},
     "output_type": "execute_result"
    }
   ],
   "source": [
    "model = fasttext.train_supervised(input=\"cooking.train\", epoch=25, lr=0.01)\n",
    "model.test(\"cooking.test\")\n",
    "\n",
    "# Clearly a higher learning rate is better here – not surprising, given that we have a small amount of data."
   ],
   "metadata": {
    "collapsed": false,
    "pycharm": {
     "name": "#%%\n"
    }
   }
  },
  {
   "cell_type": "code",
   "execution_count": null,
   "outputs": [],
   "source": [
    "# retrain our model to account for bigrams by adding “-wordNgrams 2”\n",
    "# Retrain with 25 epochs, bigrams, and learning rate of 1.0 and evaluate again\n",
    "model = fasttext.train_supervised(input=\"cooking.train\", lr=1.0, epoch=25, wordNgrams=2)\n",
    "model.test(\"cooking.test\")"
   ],
   "metadata": {
    "collapsed": false,
    "pycharm": {
     "name": "#%%\n"
    }
   }
  },
  {
   "cell_type": "code",
   "execution_count": 30,
   "outputs": [
    {
     "name": "stdout",
     "output_type": "stream",
     "text": [
      "Help on module fasttext.FastText in fasttext:\n",
      "\n",
      "NAME\n",
      "    fasttext.FastText\n",
      "\n",
      "DESCRIPTION\n",
      "    # Copyright (c) 2017-present, Facebook, Inc.\n",
      "    # All rights reserved.\n",
      "    #\n",
      "    # This source code is licensed under the MIT license found in the\n",
      "    # LICENSE file in the root directory of this source tree.\n",
      "\n",
      "FUNCTIONS\n",
      "    cbow(*kargs, **kwargs)\n",
      "    \n",
      "    eprint(*args, **kwargs)\n",
      "    \n",
      "    load_model(path)\n",
      "        Load a model given a filepath and return a model object.\n",
      "    \n",
      "    read_args(arg_list, arg_dict, arg_names, default_values)\n",
      "    \n",
      "    skipgram(*kargs, **kwargs)\n",
      "    \n",
      "    supervised(*kargs, **kwargs)\n",
      "    \n",
      "    tokenize(text)\n",
      "        Given a string of text, tokenize it and return a list of tokens\n",
      "    \n",
      "    train_supervised(*kargs, **kwargs)\n",
      "        Train a supervised model and return a model object.\n",
      "        \n",
      "        input must be a filepath. The input text does not need to be tokenized\n",
      "        as per the tokenize function, but it must be preprocessed and encoded\n",
      "        as UTF-8. You might want to consult standard preprocessing scripts such\n",
      "        as tokenizer.perl mentioned here: http://www.statmt.org/wmt07/baseline.html\n",
      "        \n",
      "        The input file must must contain at least one label per line. For an\n",
      "        example consult the example datasets which are part of the fastText\n",
      "        repository such as the dataset pulled by classification-example.sh.\n",
      "    \n",
      "    train_unsupervised(*kargs, **kwargs)\n",
      "        Train an unsupervised model and return a model object.\n",
      "        \n",
      "        input must be a filepath. The input text does not need to be tokenized\n",
      "        as per the tokenize function, but it must be preprocessed and encoded\n",
      "        as UTF-8. You might want to consult standard preprocessing scripts such\n",
      "        as tokenizer.perl mentioned here: http://www.statmt.org/wmt07/baseline.html\n",
      "        \n",
      "        The input field must not contain any labels or use the specified label prefix\n",
      "        unless it is ok for those words to be ignored. For an example consult the\n",
      "        dataset pulled by the example script word-vector-example.sh, which is\n",
      "        part of the fastText repository.\n",
      "\n",
      "DATA\n",
      "    BOW = '<'\n",
      "    EOS = '</s>'\n",
      "    EOW = '>'\n",
      "    absolute_import = _Feature((2, 5, 0, 'alpha', 1), (3, 0, 0, 'alpha', 0...\n",
      "    displayed_errors = {}\n",
      "    division = _Feature((2, 2, 0, 'alpha', 2), (3, 0, 0, 'alpha', 0), 1310...\n",
      "    print_function = _Feature((2, 6, 0, 'alpha', 2), (3, 0, 0, 'alpha', 0)...\n",
      "    unicode_literals = _Feature((2, 6, 0, 'alpha', 2), (3, 0, 0, 'alpha', ...\n",
      "    unsupervised_default = {'autotuneDuration': 300, 'autotuneMetric': 'f1...\n",
      "\n",
      "FILE\n",
      "    /Users/sengopal/.pyenv/versions/3.9.7/envs/search_with_ml/lib/python3.9/site-packages/fasttext/FastText.py\n",
      "\n",
      "\n"
     ]
    }
   ],
   "source": [
    "help(fasttext.FastText)"
   ],
   "metadata": {
    "collapsed": false,
    "pycharm": {
     "name": "#%%\n"
    }
   }
  },
  {
   "cell_type": "code",
   "execution_count": 31,
   "outputs": [
    {
     "data": {
      "text/plain": "(('__label__baking',), array([0.08652446]))"
     },
     "execution_count": 31,
     "metadata": {},
     "output_type": "execute_result"
    }
   ],
   "source": [
    "model.predict(\"easy recipe for sourdough bread ?\")"
   ],
   "metadata": {
    "collapsed": false,
    "pycharm": {
     "name": "#%%\n"
    }
   }
  },
  {
   "cell_type": "markdown",
   "source": [
    "## Documentation: https://fasttext.cc/docs/en/python-module.html"
   ],
   "metadata": {
    "collapsed": false,
    "pycharm": {
     "name": "#%% md\n"
    }
   }
  },
  {
   "cell_type": "markdown",
   "source": [
    "## NLTK"
   ],
   "metadata": {
    "collapsed": false,
    "pycharm": {
     "name": "#%% md\n"
    }
   }
  },
  {
   "cell_type": "code",
   "execution_count": 32,
   "outputs": [
    {
     "name": "stderr",
     "output_type": "stream",
     "text": [
      "[nltk_data] Downloading package averaged_perceptron_tagger to\n",
      "[nltk_data]     /Users/sengopal/nltk_data...\n",
      "[nltk_data]   Unzipping taggers/averaged_perceptron_tagger.zip.\n",
      "[nltk_data] Downloading package punkt to /Users/sengopal/nltk_data...\n",
      "[nltk_data]   Package punkt is already up-to-date!\n"
     ]
    },
    {
     "data": {
      "text/plain": "[('Cats', 'NNS'), ('eat', 'VBP'), ('raw', 'JJ'), ('fish', 'NN'), ('.', '.')]"
     },
     "execution_count": 32,
     "metadata": {},
     "output_type": "execute_result"
    }
   ],
   "source": [
    "import nltk\n",
    "nltk.download('averaged_perceptron_tagger')\n",
    "nltk.download('punkt')\n",
    "str = \"Cats eat raw fish.\"\n",
    "tokens = nltk.word_tokenize(str)\n",
    "nltk.pos_tag(tokens)"
   ],
   "metadata": {
    "collapsed": false,
    "pycharm": {
     "name": "#%%\n"
    }
   }
  },
  {
   "cell_type": "markdown",
   "source": [
    "### POS\n",
    "> “NNS” denotes a plural noun, “VBP” denotes verb that is singular and present-tense but not third-person, “JJ” denotes an adjective, and “NN” denotes a singlular noun.\n",
    ">\n",
    "> ![](penn_treebank_pos.png)"
   ],
   "metadata": {
    "collapsed": false,
    "pycharm": {
     "name": "#%% md\n"
    }
   }
  },
  {
   "cell_type": "code",
   "execution_count": 33,
   "outputs": [
    {
     "name": "stderr",
     "output_type": "stream",
     "text": [
      "[nltk_data] Downloading package words to /Users/sengopal/nltk_data...\n",
      "[nltk_data]   Unzipping corpora/words.zip.\n",
      "[nltk_data] Downloading package maxent_ne_chunker to\n",
      "[nltk_data]     /Users/sengopal/nltk_data...\n",
      "[nltk_data]   Unzipping chunkers/maxent_ne_chunker.zip.\n"
     ]
    },
    {
     "ename": "ModuleNotFoundError",
     "evalue": "No module named 'svgling'",
     "output_type": "error",
     "traceback": [
      "\u001B[0;31m---------------------------------------------------------------------------\u001B[0m",
      "\u001B[0;31mModuleNotFoundError\u001B[0m                       Traceback (most recent call last)",
      "File \u001B[0;32m~/.pyenv/versions/3.9.7/envs/search_with_ml/lib/python3.9/site-packages/IPython/core/formatters.py:343\u001B[0m, in \u001B[0;36mBaseFormatter.__call__\u001B[0;34m(self, obj)\u001B[0m\n\u001B[1;32m    341\u001B[0m     method \u001B[38;5;241m=\u001B[39m get_real_method(obj, \u001B[38;5;28mself\u001B[39m\u001B[38;5;241m.\u001B[39mprint_method)\n\u001B[1;32m    342\u001B[0m     \u001B[38;5;28;01mif\u001B[39;00m method \u001B[38;5;129;01mis\u001B[39;00m \u001B[38;5;129;01mnot\u001B[39;00m \u001B[38;5;28;01mNone\u001B[39;00m:\n\u001B[0;32m--> 343\u001B[0m         \u001B[38;5;28;01mreturn\u001B[39;00m \u001B[43mmethod\u001B[49m\u001B[43m(\u001B[49m\u001B[43m)\u001B[49m\n\u001B[1;32m    344\u001B[0m     \u001B[38;5;28;01mreturn\u001B[39;00m \u001B[38;5;28;01mNone\u001B[39;00m\n\u001B[1;32m    345\u001B[0m \u001B[38;5;28;01melse\u001B[39;00m:\n",
      "File \u001B[0;32m~/.pyenv/versions/3.9.7/envs/search_with_ml/lib/python3.9/site-packages/nltk/tree/tree.py:783\u001B[0m, in \u001B[0;36mTree._repr_svg_\u001B[0;34m(self)\u001B[0m\n\u001B[1;32m    782\u001B[0m \u001B[38;5;28;01mdef\u001B[39;00m \u001B[38;5;21m_repr_svg_\u001B[39m(\u001B[38;5;28mself\u001B[39m):\n\u001B[0;32m--> 783\u001B[0m     \u001B[38;5;28;01mfrom\u001B[39;00m \u001B[38;5;21;01msvgling\u001B[39;00m \u001B[38;5;28;01mimport\u001B[39;00m draw_tree\n\u001B[1;32m    785\u001B[0m     \u001B[38;5;28;01mreturn\u001B[39;00m draw_tree(\u001B[38;5;28mself\u001B[39m)\u001B[38;5;241m.\u001B[39m_repr_svg_()\n",
      "\u001B[0;31mModuleNotFoundError\u001B[0m: No module named 'svgling'"
     ]
    },
    {
     "data": {
      "text/plain": "Tree('S', [Tree('PERSON', [('Barack', 'NNP')]), Tree('PERSON', [('Obama', 'NNP')]), ('served', 'VBD'), ('as', 'IN'), ('the', 'DT'), ('44th', 'CD'), ('President', 'NNP'), ('of', 'IN'), ('the', 'DT'), Tree('GPE', [('United', 'NNP'), ('States', 'NNPS')]), ('.', '.')])"
     },
     "execution_count": 33,
     "metadata": {},
     "output_type": "execute_result"
    }
   ],
   "source": [
    "nltk.download('words')\n",
    "nltk.download('maxent_ne_chunker')\n",
    "str = \"Barack Obama served as the 44th President of the United States.\"\n",
    "tokens = nltk.word_tokenize(str)\n",
    "nltk.ne_chunk(nltk.pos_tag(tokens))"
   ],
   "metadata": {
    "collapsed": false,
    "pycharm": {
     "name": "#%%\n"
    }
   }
  },
  {
   "cell_type": "code",
   "execution_count": 34,
   "outputs": [
    {
     "ename": "ModuleNotFoundError",
     "evalue": "No module named 'svgling'",
     "output_type": "error",
     "traceback": [
      "\u001B[0;31m---------------------------------------------------------------------------\u001B[0m",
      "\u001B[0;31mModuleNotFoundError\u001B[0m                       Traceback (most recent call last)",
      "File \u001B[0;32m~/.pyenv/versions/3.9.7/envs/search_with_ml/lib/python3.9/site-packages/IPython/core/formatters.py:343\u001B[0m, in \u001B[0;36mBaseFormatter.__call__\u001B[0;34m(self, obj)\u001B[0m\n\u001B[1;32m    341\u001B[0m     method \u001B[38;5;241m=\u001B[39m get_real_method(obj, \u001B[38;5;28mself\u001B[39m\u001B[38;5;241m.\u001B[39mprint_method)\n\u001B[1;32m    342\u001B[0m     \u001B[38;5;28;01mif\u001B[39;00m method \u001B[38;5;129;01mis\u001B[39;00m \u001B[38;5;129;01mnot\u001B[39;00m \u001B[38;5;28;01mNone\u001B[39;00m:\n\u001B[0;32m--> 343\u001B[0m         \u001B[38;5;28;01mreturn\u001B[39;00m \u001B[43mmethod\u001B[49m\u001B[43m(\u001B[49m\u001B[43m)\u001B[49m\n\u001B[1;32m    344\u001B[0m     \u001B[38;5;28;01mreturn\u001B[39;00m \u001B[38;5;28;01mNone\u001B[39;00m\n\u001B[1;32m    345\u001B[0m \u001B[38;5;28;01melse\u001B[39;00m:\n",
      "File \u001B[0;32m~/.pyenv/versions/3.9.7/envs/search_with_ml/lib/python3.9/site-packages/nltk/tree/tree.py:783\u001B[0m, in \u001B[0;36mTree._repr_svg_\u001B[0;34m(self)\u001B[0m\n\u001B[1;32m    782\u001B[0m \u001B[38;5;28;01mdef\u001B[39;00m \u001B[38;5;21m_repr_svg_\u001B[39m(\u001B[38;5;28mself\u001B[39m):\n\u001B[0;32m--> 783\u001B[0m     \u001B[38;5;28;01mfrom\u001B[39;00m \u001B[38;5;21;01msvgling\u001B[39;00m \u001B[38;5;28;01mimport\u001B[39;00m draw_tree\n\u001B[1;32m    785\u001B[0m     \u001B[38;5;28;01mreturn\u001B[39;00m draw_tree(\u001B[38;5;28mself\u001B[39m)\u001B[38;5;241m.\u001B[39m_repr_svg_()\n",
      "\u001B[0;31mModuleNotFoundError\u001B[0m: No module named 'svgling'"
     ]
    },
    {
     "data": {
      "text/plain": "Tree('S', [Tree('PERSON', [('Mr.', 'NNP'), ('Ed', 'NNP')]), ('is', 'VBZ'), ('a', 'DT'), ('zebra', 'NN'), ('.', '.')])"
     },
     "execution_count": 34,
     "metadata": {},
     "output_type": "execute_result"
    }
   ],
   "source": [
    "str = \"Mr. Ed is a zebra.\"\n",
    "tokens = nltk.word_tokenize(str)\n",
    "nltk.ne_chunk(nltk.pos_tag(tokens))"
   ],
   "metadata": {
    "collapsed": false,
    "pycharm": {
     "name": "#%%\n"
    }
   }
  },
  {
   "cell_type": "code",
   "execution_count": 35,
   "outputs": [
    {
     "ename": "ModuleNotFoundError",
     "evalue": "No module named 'svgling'",
     "output_type": "error",
     "traceback": [
      "\u001B[0;31m---------------------------------------------------------------------------\u001B[0m",
      "\u001B[0;31mModuleNotFoundError\u001B[0m                       Traceback (most recent call last)",
      "File \u001B[0;32m~/.pyenv/versions/3.9.7/envs/search_with_ml/lib/python3.9/site-packages/IPython/core/formatters.py:343\u001B[0m, in \u001B[0;36mBaseFormatter.__call__\u001B[0;34m(self, obj)\u001B[0m\n\u001B[1;32m    341\u001B[0m     method \u001B[38;5;241m=\u001B[39m get_real_method(obj, \u001B[38;5;28mself\u001B[39m\u001B[38;5;241m.\u001B[39mprint_method)\n\u001B[1;32m    342\u001B[0m     \u001B[38;5;28;01mif\u001B[39;00m method \u001B[38;5;129;01mis\u001B[39;00m \u001B[38;5;129;01mnot\u001B[39;00m \u001B[38;5;28;01mNone\u001B[39;00m:\n\u001B[0;32m--> 343\u001B[0m         \u001B[38;5;28;01mreturn\u001B[39;00m \u001B[43mmethod\u001B[49m\u001B[43m(\u001B[49m\u001B[43m)\u001B[49m\n\u001B[1;32m    344\u001B[0m     \u001B[38;5;28;01mreturn\u001B[39;00m \u001B[38;5;28;01mNone\u001B[39;00m\n\u001B[1;32m    345\u001B[0m \u001B[38;5;28;01melse\u001B[39;00m:\n",
      "File \u001B[0;32m~/.pyenv/versions/3.9.7/envs/search_with_ml/lib/python3.9/site-packages/nltk/tree/tree.py:783\u001B[0m, in \u001B[0;36mTree._repr_svg_\u001B[0;34m(self)\u001B[0m\n\u001B[1;32m    782\u001B[0m \u001B[38;5;28;01mdef\u001B[39;00m \u001B[38;5;21m_repr_svg_\u001B[39m(\u001B[38;5;28mself\u001B[39m):\n\u001B[0;32m--> 783\u001B[0m     \u001B[38;5;28;01mfrom\u001B[39;00m \u001B[38;5;21;01msvgling\u001B[39;00m \u001B[38;5;28;01mimport\u001B[39;00m draw_tree\n\u001B[1;32m    785\u001B[0m     \u001B[38;5;28;01mreturn\u001B[39;00m draw_tree(\u001B[38;5;28mself\u001B[39m)\u001B[38;5;241m.\u001B[39m_repr_svg_()\n",
      "\u001B[0;31mModuleNotFoundError\u001B[0m: No module named 'svgling'"
     ]
    },
    {
     "data": {
      "text/plain": "Tree('S', [Tree('GPE', [('Pi', 'NNP')]), ('is', 'VBZ'), ('not', 'RB'), ('3.14', 'CD'), ('?', '.')])"
     },
     "execution_count": 35,
     "metadata": {},
     "output_type": "execute_result"
    }
   ],
   "source": [
    "str = \"Pi is not 3.14?\"\n",
    "tokens = nltk.word_tokenize(str)\n",
    "nltk.ne_chunk(nltk.pos_tag(tokens))"
   ],
   "metadata": {
    "collapsed": false,
    "pycharm": {
     "name": "#%%\n"
    }
   }
  },
  {
   "cell_type": "markdown",
   "source": [
    "## Synonyms\n",
    "https://fasttext.cc/docs/en/unsupervised-tutorial.html"
   ],
   "metadata": {
    "collapsed": false,
    "pycharm": {
     "name": "#%% md\n"
    }
   }
  },
  {
   "cell_type": "code",
   "execution_count": 38,
   "outputs": [
    {
     "name": "stderr",
     "output_type": "stream",
     "text": [
      "Read 0M words\n",
      "Number of words:  9871\n",
      "Number of labels: 0\n",
      "Progress: 100.0% words/sec/thread:  180559 lr:  0.000000 avg.loss:  2.461266 ETA:   0h 0m 0s\n"
     ]
    }
   ],
   "source": [
    "# Skipgram model :\n",
    "#  fasttext skipgram -input /workspace/search_with_machine_learning_course/data/wiki_sample.txt -output wiki -maxn 0\n",
    "model = fasttext.train_unsupervised('/Users/sengopal/build/my-git/search_with_machine_learning_course/data/wiki_sample.txt', model='skipgram', maxn=0)\n",
    "model.save_model(\"wiki.bin\")"
   ],
   "metadata": {
    "collapsed": false,
    "pycharm": {
     "name": "#%%\n"
    }
   }
  },
  {
   "cell_type": "code",
   "execution_count": 40,
   "outputs": [
    {
     "data": {
      "text/plain": "array([ 4.51803803e-01,  4.05361801e-02, -1.86746687e-01,  2.75188148e-01,\n        8.90553668e-02,  1.13700092e-01, -3.35877031e-01,  1.13159738e-01,\n        2.17511162e-01,  7.48647423e-03, -7.51596913e-02,  3.44507862e-04,\n       -4.31794047e-01, -3.18042487e-02, -1.11480244e-01,  1.90409020e-01,\n        1.43702447e-01,  2.06547499e-01,  1.85254565e-03, -2.23737568e-01,\n        2.12700382e-01,  5.51540792e-01, -1.80349410e-01,  3.93031649e-02,\n        7.40892068e-02,  4.47227918e-02,  1.59627840e-01, -1.38234645e-02,\n       -3.65492702e-01, -1.67179585e-01,  1.95508525e-01,  7.33919740e-02,\n       -3.78228799e-02, -4.64942195e-02, -6.63160160e-02,  2.52171308e-01,\n        1.75371543e-01, -1.05553761e-01, -2.09394693e-01, -7.66221434e-02,\n       -2.52725959e-01, -7.97243137e-03, -4.71099764e-02,  3.01281065e-01,\n        4.85131025e-01,  2.80443817e-01,  7.68438503e-02,  6.80727735e-02,\n        9.35588703e-02, -9.07346383e-02, -1.76610559e-01, -3.66963521e-02,\n       -1.73832610e-01,  8.34249109e-02, -1.24458291e-01, -3.57924849e-02,\n        1.43696919e-01,  1.40086338e-01, -8.42881128e-02, -2.62017013e-03,\n        4.18634593e-01,  1.10945426e-01,  1.81913346e-01,  1.03774212e-01,\n        1.37436599e-01, -6.39118701e-02, -2.20884368e-01,  2.22352147e-01,\n       -1.83895350e-01, -8.58433452e-03, -1.14349954e-01,  1.02353375e-02,\n        3.23343873e-02, -6.50731772e-02,  1.04442604e-01, -3.03743213e-01,\n        2.29742616e-01,  1.92171916e-01,  2.26940453e-01, -1.88866809e-01,\n        6.20656796e-02,  2.10999146e-01, -1.66128561e-01,  6.11913741e-01,\n        1.26877680e-01, -2.28569850e-01,  2.53868792e-02,  1.32535696e-01,\n        8.02178457e-02,  1.29902467e-01,  8.31899345e-02, -1.04043521e-01,\n        4.33899075e-01, -4.40712839e-01, -2.71143496e-01, -3.53844851e-01,\n        4.61173579e-02,  9.77943689e-02, -9.68180150e-02,  1.19498130e-02],\n      dtype=float32)"
     },
     "execution_count": 40,
     "metadata": {},
     "output_type": "execute_result"
    }
   ],
   "source": [
    "model.get_word_vector(\"politics\")"
   ],
   "metadata": {
    "collapsed": false,
    "pycharm": {
     "name": "#%%\n"
    }
   }
  },
  {
   "cell_type": "code",
   "execution_count": 41,
   "outputs": [
    {
     "data": {
      "text/plain": "[(0.8555908203125, 'privy'),\n (0.8484763503074646, 'governors'),\n (0.8414998054504395, 'documents'),\n (0.8396217226982117, 'politicians'),\n (0.8302420377731323, 'ministers'),\n (0.8212708234786987, 'senate'),\n (0.8194386959075928, 'governed'),\n (0.819216251373291, 'parliamentary'),\n (0.8184235692024231, 'register'),\n (0.8164151906967163, 'commonwealth')]"
     },
     "execution_count": 41,
     "metadata": {},
     "output_type": "execute_result"
    }
   ],
   "source": [
    "model.get_nearest_neighbors('politics')"
   ],
   "metadata": {
    "collapsed": false,
    "pycharm": {
     "name": "#%%\n"
    }
   }
  },
  {
   "cell_type": "code",
   "execution_count": 42,
   "outputs": [
    {
     "data": {
      "text/plain": "[(0.9506422281265259, 'unix'),\n (0.94535893201828, 'dna'),\n (0.9450774192810059, 'kernel'),\n (0.943400502204895, 'implementation'),\n (0.942667543888092, 'files'),\n (0.9385414719581604, 'functional'),\n (0.93833988904953, 'microsoft'),\n (0.937720537185669, 'interface'),\n (0.9318779110908508, 'binding'),\n (0.9311510920524597, 'inputs')]"
     },
     "execution_count": 42,
     "metadata": {},
     "output_type": "execute_result"
    }
   ],
   "source": [
    "model.get_nearest_neighbors('linux')"
   ],
   "metadata": {
    "collapsed": false,
    "pycharm": {
     "name": "#%%\n"
    }
   }
  },
  {
   "cell_type": "code",
   "execution_count": null,
   "outputs": [],
   "source": [],
   "metadata": {
    "collapsed": false,
    "pycharm": {
     "name": "#%%\n"
    }
   }
  }
 ],
 "metadata": {
  "kernelspec": {
   "display_name": "Python 3",
   "language": "python",
   "name": "python3"
  },
  "language_info": {
   "codemirror_mode": {
    "name": "ipython",
    "version": 2
   },
   "file_extension": ".py",
   "mimetype": "text/x-python",
   "name": "python",
   "nbconvert_exporter": "python",
   "pygments_lexer": "ipython2",
   "version": "2.7.6"
  }
 },
 "nbformat": 4,
 "nbformat_minor": 0
}