{
 "cells": [
  {
   "cell_type": "markdown",
   "source": [
    "## Level 1: Query Classification\n",
    "generate training data - mapping the leaf category ids of queries to ancestor categories."
   ],
   "metadata": {
    "collapsed": false,
    "pycharm": {
     "name": "#%% md\n"
    }
   }
  },
  {
   "cell_type": "markdown",
   "source": [
    "### Task 1: Prune the category taxonomy"
   ],
   "metadata": {
    "collapsed": false,
    "pycharm": {
     "name": "#%% md\n"
    }
   }
  },
  {
   "cell_type": "code",
   "execution_count": 84,
   "outputs": [],
   "source": [
    "import xml.etree.ElementTree as ET\n",
    "import pandas as pd\n",
    "\n",
    "# The root category, named Best Buy with id cat00000, doesn't have a parent.\n",
    "root_category_id = 'cat00000'\n",
    "categories_file_name = r'/Users/sengopal/build/my-git/search_with_machine_learning_course/datasets/product_data/categories/categories_0001_abcat0010000_to_pcmcat99300050000.xml'\n",
    "queries_file_name = r'/Users/sengopal/build/my-git/search_with_machine_learning_course/datasets/train.csv'\n",
    "tree = ET.parse(categories_file_name)\n",
    "root = tree.getroot()\n",
    "\n",
    "# Parse the category XML file to map each category id to its parent category id in a dataframe.\n",
    "categories = []\n",
    "parents = []\n",
    "for child in root:\n",
    "    id = child.find('id').text\n",
    "    cat_path = child.find('path')\n",
    "    cat_path_ids = [cat.find('id').text for cat in cat_path]\n",
    "    leaf_id = cat_path_ids[-1]\n",
    "    if leaf_id != root_category_id:\n",
    "        categories.append(leaf_id)\n",
    "        parents.append(cat_path_ids[-2])\n",
    "parents_df = pd.DataFrame(list(zip(categories, parents)), columns =['category', 'parent'])\n",
    "\n",
    "# Read the training data into pandas, only keeping queries with non-root categories in our category tree.\n",
    "df = pd.read_csv(queries_file_name)[['category', 'query']]\n",
    "df = df[df['category'].isin(categories)]"
   ],
   "metadata": {
    "collapsed": false,
    "pycharm": {
     "name": "#%%\n"
    }
   }
  },
  {
   "cell_type": "code",
   "execution_count": 85,
   "outputs": [
    {
     "data": {
      "text/plain": "                               query_norm\ncategory                                 \nabcat0011000            portable dvd play\nabcat0011000                         pink\nabcat0011000            princess dvd play\nabcat0011000                         pink\nabcat0011000       portable pink dvd play\n...                                   ...\npcmcat99000050002              wired rout\npcmcat99000050002                   rotor\npcmcat99000050002              wired rout\npcmcat99000050002           wireless rout\npcmcat99000050002           wireless rout\n\n[1854998 rows x 1 columns]",
      "text/html": "<div>\n<style scoped>\n    .dataframe tbody tr th:only-of-type {\n        vertical-align: middle;\n    }\n\n    .dataframe tbody tr th {\n        vertical-align: top;\n    }\n\n    .dataframe thead th {\n        text-align: right;\n    }\n</style>\n<table border=\"1\" class=\"dataframe\">\n  <thead>\n    <tr style=\"text-align: right;\">\n      <th></th>\n      <th>query_norm</th>\n    </tr>\n    <tr>\n      <th>category</th>\n      <th></th>\n    </tr>\n  </thead>\n  <tbody>\n    <tr>\n      <th>abcat0011000</th>\n      <td>portable dvd play</td>\n    </tr>\n    <tr>\n      <th>abcat0011000</th>\n      <td>pink</td>\n    </tr>\n    <tr>\n      <th>abcat0011000</th>\n      <td>princess dvd play</td>\n    </tr>\n    <tr>\n      <th>abcat0011000</th>\n      <td>pink</td>\n    </tr>\n    <tr>\n      <th>abcat0011000</th>\n      <td>portable pink dvd play</td>\n    </tr>\n    <tr>\n      <th>...</th>\n      <td>...</td>\n    </tr>\n    <tr>\n      <th>pcmcat99000050002</th>\n      <td>wired rout</td>\n    </tr>\n    <tr>\n      <th>pcmcat99000050002</th>\n      <td>rotor</td>\n    </tr>\n    <tr>\n      <th>pcmcat99000050002</th>\n      <td>wired rout</td>\n    </tr>\n    <tr>\n      <th>pcmcat99000050002</th>\n      <td>wireless rout</td>\n    </tr>\n    <tr>\n      <th>pcmcat99000050002</th>\n      <td>wireless rout</td>\n    </tr>\n  </tbody>\n</table>\n<p>1854998 rows × 1 columns</p>\n</div>"
     },
     "execution_count": 85,
     "metadata": {},
     "output_type": "execute_result"
    }
   ],
   "source": [
    "# Prepare Parent Dictionary\n",
    "parents_dict_df = parents_df.set_index(\"category\", drop=True, inplace=False)\n",
    "parent_dict = parents_dict_df.to_dict()['parent']\n",
    "\n",
    "# IMPLEMENT ME: Convert queries to lowercase, and optionally implement other normalization, like stemming.\n",
    "import nltk\n",
    "stemmer = nltk.stem.PorterStemmer()\n",
    "df['query_norm'] = df['query'].apply(lambda x: stemmer.stem(x))\n",
    "df_norm = df[['category', 'query_norm']]\n",
    "df_norm.set_index('category').sort_index()"
   ],
   "metadata": {
    "collapsed": false,
    "pycharm": {
     "name": "#%%\n"
    }
   }
  },
  {
   "cell_type": "code",
   "execution_count": 86,
   "outputs": [
    {
     "name": "stdout",
     "output_type": "stream",
     "text": [
      "list_to_replace: 1188\n"
     ]
    },
    {
     "name": "stderr",
     "output_type": "stream",
     "text": [
      "/var/folders/8_/5jrrzcc913ld81kz2_vhx2jr0000gq/T/ipykernel_36313/3786481628.py:11: SettingWithCopyWarning: \n",
      "A value is trying to be set on a copy of a slice from a DataFrame.\n",
      "Try using .loc[row_indexer,col_indexer] = value instead\n",
      "\n",
      "See the caveats in the documentation: https://pandas.pydata.org/pandas-docs/stable/user_guide/indexing.html#returning-a-view-versus-a-copy\n",
      "  df_norm[\"category\"] = df_norm[\"category\"].replace(replace_dict)\n"
     ]
    },
    {
     "name": "stdout",
     "output_type": "stream",
     "text": [
      "len_low_count: 236\n",
      "list_to_replace: 236\n"
     ]
    },
    {
     "name": "stderr",
     "output_type": "stream",
     "text": [
      "/var/folders/8_/5jrrzcc913ld81kz2_vhx2jr0000gq/T/ipykernel_36313/3786481628.py:11: SettingWithCopyWarning: \n",
      "A value is trying to be set on a copy of a slice from a DataFrame.\n",
      "Try using .loc[row_indexer,col_indexer] = value instead\n",
      "\n",
      "See the caveats in the documentation: https://pandas.pydata.org/pandas-docs/stable/user_guide/indexing.html#returning-a-view-versus-a-copy\n",
      "  df_norm[\"category\"] = df_norm[\"category\"].replace(replace_dict)\n"
     ]
    },
    {
     "name": "stdout",
     "output_type": "stream",
     "text": [
      "len_low_count: 48\n",
      "list_to_replace: 48\n"
     ]
    },
    {
     "name": "stderr",
     "output_type": "stream",
     "text": [
      "/var/folders/8_/5jrrzcc913ld81kz2_vhx2jr0000gq/T/ipykernel_36313/3786481628.py:11: SettingWithCopyWarning: \n",
      "A value is trying to be set on a copy of a slice from a DataFrame.\n",
      "Try using .loc[row_indexer,col_indexer] = value instead\n",
      "\n",
      "See the caveats in the documentation: https://pandas.pydata.org/pandas-docs/stable/user_guide/indexing.html#returning-a-view-versus-a-copy\n",
      "  df_norm[\"category\"] = df_norm[\"category\"].replace(replace_dict)\n"
     ]
    },
    {
     "name": "stdout",
     "output_type": "stream",
     "text": [
      "len_low_count: 6\n",
      "list_to_replace: 6\n"
     ]
    },
    {
     "name": "stderr",
     "output_type": "stream",
     "text": [
      "/var/folders/8_/5jrrzcc913ld81kz2_vhx2jr0000gq/T/ipykernel_36313/3786481628.py:11: SettingWithCopyWarning: \n",
      "A value is trying to be set on a copy of a slice from a DataFrame.\n",
      "Try using .loc[row_indexer,col_indexer] = value instead\n",
      "\n",
      "See the caveats in the documentation: https://pandas.pydata.org/pandas-docs/stable/user_guide/indexing.html#returning-a-view-versus-a-copy\n",
      "  df_norm[\"category\"] = df_norm[\"category\"].replace(replace_dict)\n"
     ]
    },
    {
     "name": "stdout",
     "output_type": "stream",
     "text": [
      "len_low_count: 1\n",
      "list_to_replace: 1\n"
     ]
    },
    {
     "name": "stderr",
     "output_type": "stream",
     "text": [
      "/var/folders/8_/5jrrzcc913ld81kz2_vhx2jr0000gq/T/ipykernel_36313/3786481628.py:11: SettingWithCopyWarning: \n",
      "A value is trying to be set on a copy of a slice from a DataFrame.\n",
      "Try using .loc[row_indexer,col_indexer] = value instead\n",
      "\n",
      "See the caveats in the documentation: https://pandas.pydata.org/pandas-docs/stable/user_guide/indexing.html#returning-a-view-versus-a-copy\n",
      "  df_norm[\"category\"] = df_norm[\"category\"].replace(replace_dict)\n"
     ]
    },
    {
     "name": "stdout",
     "output_type": "stream",
     "text": [
      "len_low_count: 0\n"
     ]
    }
   ],
   "source": [
    "# Roll up categories with fewer queries than the threshold to their parents, and keep doing so until every remaining category satisfies the threshold number of queries.\n",
    "threshold = 1000\n",
    "threshold_reached = False\n",
    "df_cat_count = df_norm.groupby(['category']).count()\n",
    "# print(df_cat_count[df_cat_count['query_norm'] < 100])\n",
    "parent_dict[root_category_id] = root_category_id\n",
    "while not threshold_reached:\n",
    "    list_to_replace = list(df_cat_count[df_cat_count['query_norm'] < threshold].index)\n",
    "    print(f\"list_to_replace: {len(list_to_replace)}\")\n",
    "    replace_dict = { k: parent_dict[k] for k in list_to_replace}\n",
    "    df_norm[\"category\"] = df_norm[\"category\"].replace(replace_dict)\n",
    "    df_cat_count = df_norm.groupby(['category']).count()\n",
    "    len_low_count = len(list(df_cat_count[df_cat_count['query_norm'] < threshold].index))\n",
    "    print(f\"len_low_count: {len_low_count}\")\n",
    "    threshold_reached = (len_low_count <= 0)"
   ],
   "metadata": {
    "collapsed": false,
    "pycharm": {
     "name": "#%%\n"
    }
   }
  },
  {
   "cell_type": "code",
   "execution_count": 87,
   "outputs": [
    {
     "data": {
      "text/plain": "                   category                          query_norm\n0              abcat0101001  televisiones panasonic  50 pulgada\n1              abcat0101001                               sharp\n2        pcmcat193100050014                                nook\n3              abcat0101001                                 rca\n4              abcat0101005                                 rca\n...                     ...                                 ...\n1865264  pcmcat247400050000                                 ttv\n1865265  pcmcat218000050000                               incas\n1865266  pcmcat248500050020                             ds game\n1865267  pcmcat209000050008                               archo\n1865268  pcmcat182300050008                       graphics card\n\n[1854998 rows x 2 columns]",
      "text/html": "<div>\n<style scoped>\n    .dataframe tbody tr th:only-of-type {\n        vertical-align: middle;\n    }\n\n    .dataframe tbody tr th {\n        vertical-align: top;\n    }\n\n    .dataframe thead th {\n        text-align: right;\n    }\n</style>\n<table border=\"1\" class=\"dataframe\">\n  <thead>\n    <tr style=\"text-align: right;\">\n      <th></th>\n      <th>category</th>\n      <th>query_norm</th>\n    </tr>\n  </thead>\n  <tbody>\n    <tr>\n      <th>0</th>\n      <td>abcat0101001</td>\n      <td>televisiones panasonic  50 pulgada</td>\n    </tr>\n    <tr>\n      <th>1</th>\n      <td>abcat0101001</td>\n      <td>sharp</td>\n    </tr>\n    <tr>\n      <th>2</th>\n      <td>pcmcat193100050014</td>\n      <td>nook</td>\n    </tr>\n    <tr>\n      <th>3</th>\n      <td>abcat0101001</td>\n      <td>rca</td>\n    </tr>\n    <tr>\n      <th>4</th>\n      <td>abcat0101005</td>\n      <td>rca</td>\n    </tr>\n    <tr>\n      <th>...</th>\n      <td>...</td>\n      <td>...</td>\n    </tr>\n    <tr>\n      <th>1865264</th>\n      <td>pcmcat247400050000</td>\n      <td>ttv</td>\n    </tr>\n    <tr>\n      <th>1865265</th>\n      <td>pcmcat218000050000</td>\n      <td>incas</td>\n    </tr>\n    <tr>\n      <th>1865266</th>\n      <td>pcmcat248500050020</td>\n      <td>ds game</td>\n    </tr>\n    <tr>\n      <th>1865267</th>\n      <td>pcmcat209000050008</td>\n      <td>archo</td>\n    </tr>\n    <tr>\n      <th>1865268</th>\n      <td>pcmcat182300050008</td>\n      <td>graphics card</td>\n    </tr>\n  </tbody>\n</table>\n<p>1854998 rows × 2 columns</p>\n</div>"
     },
     "execution_count": 87,
     "metadata": {},
     "output_type": "execute_result"
    }
   ],
   "source": [
    "df_norm"
   ],
   "metadata": {
    "collapsed": false,
    "pycharm": {
     "name": "#%%\n"
    }
   }
  },
  {
   "cell_type": "code",
   "execution_count": 89,
   "outputs": [
    {
     "data": {
      "text/plain": "                    query_norm\ncategory                      \nabcat0100000              4359\nabcat0101001             80213\nabcat0101005              1042\nabcat0102003              8303\nabcat0102005              2533\n...                        ...\npcmcat248700050021        3753\npcmcat252700050006        2619\npcmcat254000050002        1528\npcmcat254000050005        2256\npcmcat277400050005        1633\n\n[388 rows x 1 columns]",
      "text/html": "<div>\n<style scoped>\n    .dataframe tbody tr th:only-of-type {\n        vertical-align: middle;\n    }\n\n    .dataframe tbody tr th {\n        vertical-align: top;\n    }\n\n    .dataframe thead th {\n        text-align: right;\n    }\n</style>\n<table border=\"1\" class=\"dataframe\">\n  <thead>\n    <tr style=\"text-align: right;\">\n      <th></th>\n      <th>query_norm</th>\n    </tr>\n    <tr>\n      <th>category</th>\n      <th></th>\n    </tr>\n  </thead>\n  <tbody>\n    <tr>\n      <th>abcat0100000</th>\n      <td>4359</td>\n    </tr>\n    <tr>\n      <th>abcat0101001</th>\n      <td>80213</td>\n    </tr>\n    <tr>\n      <th>abcat0101005</th>\n      <td>1042</td>\n    </tr>\n    <tr>\n      <th>abcat0102003</th>\n      <td>8303</td>\n    </tr>\n    <tr>\n      <th>abcat0102005</th>\n      <td>2533</td>\n    </tr>\n    <tr>\n      <th>...</th>\n      <td>...</td>\n    </tr>\n    <tr>\n      <th>pcmcat248700050021</th>\n      <td>3753</td>\n    </tr>\n    <tr>\n      <th>pcmcat252700050006</th>\n      <td>2619</td>\n    </tr>\n    <tr>\n      <th>pcmcat254000050002</th>\n      <td>1528</td>\n    </tr>\n    <tr>\n      <th>pcmcat254000050005</th>\n      <td>2256</td>\n    </tr>\n    <tr>\n      <th>pcmcat277400050005</th>\n      <td>1633</td>\n    </tr>\n  </tbody>\n</table>\n<p>388 rows × 1 columns</p>\n</div>"
     },
     "execution_count": 89,
     "metadata": {},
     "output_type": "execute_result"
    }
   ],
   "source": [
    "df_norm.groupby(['category']).count()"
   ],
   "metadata": {
    "collapsed": false,
    "pycharm": {
     "name": "#%%\n"
    }
   }
  },
  {
   "cell_type": "code",
   "execution_count": 93,
   "outputs": [
    {
     "name": "stderr",
     "output_type": "stream",
     "text": [
      "/var/folders/8_/5jrrzcc913ld81kz2_vhx2jr0000gq/T/ipykernel_36313/3402489786.py:7: SettingWithCopyWarning: \n",
      "A value is trying to be set on a copy of a slice from a DataFrame.\n",
      "Try using .loc[row_indexer,col_indexer] = value instead\n",
      "\n",
      "See the caveats in the documentation: https://pandas.pydata.org/pandas-docs/stable/user_guide/indexing.html#returning-a-view-versus-a-copy\n",
      "  df['output'] = df['label'] + ' ' + df['query_norm']\n"
     ]
    }
   ],
   "source": [
    "import csv\n",
    "\n",
    "df = df_norm\n",
    "df['label'] = '__label__' + df['category']\n",
    "output_file_name = r'/Users/sengopal/build/my-git/search_with_machine_learning_course/datasets/labeled_query_data.txt'\n",
    "df = df[df['category'].isin(categories)]\n",
    "df['output'] = df['label'] + ' ' + df['query_norm']\n",
    "df[['output']].to_csv(output_file_name, header=False, sep='|', escapechar='\\\\', quoting=csv.QUOTE_NONE, index=False)"
   ],
   "metadata": {
    "collapsed": false,
    "pycharm": {
     "name": "#%%\n"
    }
   }
  },
  {
   "cell_type": "code",
   "execution_count": 95,
   "outputs": [
    {
     "name": "stdout",
     "output_type": "stream",
     "text": [
      " 1854998 /Users/sengopal/build/my-git/search_with_machine_learning_course/datasets/labeled_query_data.txt\r\n"
     ]
    }
   ],
   "source": [
    "!wc -l /Users/sengopal/build/my-git/search_with_machine_learning_course/datasets/labeled_query_data.txt"
   ],
   "metadata": {
    "collapsed": false,
    "pycharm": {
     "name": "#%%\n"
    }
   }
  },
  {
   "cell_type": "code",
   "execution_count": 96,
   "outputs": [
    {
     "name": "stdout",
     "output_type": "stream",
     "text": [
      "__label__abcat0101001 televisiones panasonic  50 pulgada\r\n",
      "__label__abcat0101001 sharp\r\n",
      "__label__pcmcat193100050014 nook\r\n",
      "__label__abcat0101001 rca\r\n",
      "__label__abcat0101005 rca\r\n",
      "__label__pcmcat143200050016 flat screen tv\r\n",
      "__label__pcmcat247400050001 macbook\r\n",
      "__label__pcmcat171900050028 blue tooth headphon\r\n",
      "__label__abcat0107004 tv antenna\r\n",
      "__label__pcmcat186100050006 memory card\r\n"
     ]
    }
   ],
   "source": [
    "!head /Users/sengopal/build/my-git/search_with_machine_learning_course/datasets/labeled_query_data.txt"
   ],
   "metadata": {
    "collapsed": false,
    "pycharm": {
     "name": "#%%\n"
    }
   }
  },
  {
   "cell_type": "code",
   "execution_count": null,
   "outputs": [],
   "source": [
    "!python create_labeled_queries.py --min_queries 1000 --output '/Users/sengopal/build/my-git/search_with_machine_learning_course/datasets/labeled_query_data_min1000.txt'"
   ],
   "metadata": {
    "collapsed": false,
    "pycharm": {
     "name": "#%%\n"
    }
   }
  },
  {
   "cell_type": "markdown",
   "source": [
    "### Task 2: Train a query classifier"
   ],
   "metadata": {
    "collapsed": false,
    "pycharm": {
     "name": "#%% md\n"
    }
   }
  },
  {
   "cell_type": "code",
   "execution_count": 98,
   "outputs": [],
   "source": [
    "!shuf /Users/sengopal/build/my-git/search_with_machine_learning_course/datasets/labeled_query_data_min1000.txt > min1000_shuffled_labeled_query_data.txt"
   ],
   "metadata": {
    "collapsed": false,
    "pycharm": {
     "name": "#%%\n"
    }
   }
  },
  {
   "cell_type": "code",
   "execution_count": 100,
   "outputs": [],
   "source": [
    "!head -n 100000 min1000_shuffled_labeled_query_data.txt > min1000_labeled_query_training_data.txt\n",
    "!tail -n 10000 min1000_shuffled_labeled_query_data.txt > min1000_labeled_query_test_data.txt"
   ],
   "metadata": {
    "collapsed": false,
    "pycharm": {
     "name": "#%%\n"
    }
   }
  },
  {
   "cell_type": "code",
   "execution_count": 110,
   "outputs": [
    {
     "name": "stderr",
     "output_type": "stream",
     "text": [
      "Read 0M words\n",
      "Number of words:  12891\n",
      "Number of labels: 388\n",
      "Progress: 100.0% words/sec/thread:   34644 lr:  0.000000 avg.loss:  2.965291 ETA:   0h 0m 0s  8.2% words/sec/thread:   40355 lr:  0.367038 avg.loss:  5.267332 ETA:   0h 0m14s 78.9% words/sec/thread:   35925 lr:  0.084556 avg.loss:  3.326733 ETA:   0h 0m 3s"
     ]
    },
    {
     "name": "stdout",
     "output_type": "stream",
     "text": [
      "(10000, 0.5265, 0.5265)\n",
      "(10000, 0.3259, 0.6518)\n",
      "(10000, 0.2373, 0.7119)\n"
     ]
    },
    {
     "name": "stderr",
     "output_type": "stream",
     "text": [
      " avg.loss:  2.965291 ETA:   0h 0m 0s\n"
     ]
    }
   ],
   "source": [
    "import fasttext\n",
    "\n",
    "cat_classifier_v1 = fasttext.train_supervised(input=\"min1000_labeled_query_training_data.txt\", lr=0.4, epoch=25)\n",
    "print(cat_classifier_v1.test(\"min1000_labeled_query_test_data.txt\", k = 1))\n",
    "print(cat_classifier_v1.test(\"min1000_labeled_query_test_data.txt\", k = 2))\n",
    "print(cat_classifier_v1.test(\"min1000_labeled_query_test_data.txt\", k = 3))"
   ],
   "metadata": {
    "collapsed": false,
    "pycharm": {
     "name": "#%%\n"
    }
   }
  },
  {
   "cell_type": "code",
   "execution_count": 111,
   "outputs": [
    {
     "name": "stderr",
     "output_type": "stream",
     "text": [
      "Read 0M words\n",
      "Number of words:  12891\n",
      "Number of labels: 388\n",
      "Progress: 100.0% words/sec/thread:   24969 lr:  0.000000 avg.loss:  2.079734 ETA:   0h 0m 0s% words/sec/thread:   27111 lr:  0.168248 avg.loss:  2.484065 ETA:   0h 0m32s 76.0% words/sec/thread:   26126 lr:  0.119887 avg.loss:  2.346501 ETA:   0h 0m23s\n"
     ]
    },
    {
     "name": "stdout",
     "output_type": "stream",
     "text": [
      "(10000, 0.5263, 0.5263)\n",
      "(10000, 0.32565, 0.6513)\n",
      "(10000, 0.23803333333333335, 0.7141)\n"
     ]
    }
   ],
   "source": [
    "cat_classifier_v2 = fasttext.train_supervised(input=\"min1000_labeled_query_training_data.txt\", lr=0.5, epoch=100, wordNgrams=3)\n",
    "print(cat_classifier_v2.test(\"min1000_labeled_query_test_data.txt\", k = 1))\n",
    "print(cat_classifier_v2.test(\"min1000_labeled_query_test_data.txt\", k = 2))\n",
    "print(cat_classifier_v2.test(\"min1000_labeled_query_test_data.txt\", k = 3))"
   ],
   "metadata": {
    "collapsed": false,
    "pycharm": {
     "name": "#%%\n"
    }
   }
  },
  {
   "cell_type": "markdown",
   "source": [
    "#### Try regenerating the training data with minimum-query values of 10,000"
   ],
   "metadata": {
    "collapsed": false,
    "pycharm": {
     "name": "#%% md\n"
    }
   }
  },
  {
   "cell_type": "code",
   "execution_count": 173,
   "outputs": [
    {
     "name": "stdout",
     "output_type": "stream",
     "text": [
      "--min_queries:10000\r\n",
      "list_to_replace: 1457\r\n",
      "/Users/sengopal/build/my-git/search_with_machine_learning_course/week3/create_labeled_queries.py:73: SettingWithCopyWarning: \r\n",
      "A value is trying to be set on a copy of a slice from a DataFrame.\r\n",
      "Try using .loc[row_indexer,col_indexer] = value instead\r\n",
      "\r\n",
      "See the caveats in the documentation: https://pandas.pydata.org/pandas-docs/stable/user_guide/indexing.html#returning-a-view-versus-a-copy\r\n",
      "  df_norm[\"category\"] = df_norm[\"category\"].replace(replace_dict)\r\n",
      "len_low_count: 337\r\n",
      "list_to_replace: 337\r\n",
      "/Users/sengopal/build/my-git/search_with_machine_learning_course/week3/create_labeled_queries.py:73: SettingWithCopyWarning: \r\n",
      "A value is trying to be set on a copy of a slice from a DataFrame.\r\n",
      "Try using .loc[row_indexer,col_indexer] = value instead\r\n",
      "\r\n",
      "See the caveats in the documentation: https://pandas.pydata.org/pandas-docs/stable/user_guide/indexing.html#returning-a-view-versus-a-copy\r\n",
      "  df_norm[\"category\"] = df_norm[\"category\"].replace(replace_dict)\r\n",
      "len_low_count: 84\r\n",
      "list_to_replace: 84\r\n",
      "/Users/sengopal/build/my-git/search_with_machine_learning_course/week3/create_labeled_queries.py:73: SettingWithCopyWarning: \r\n",
      "A value is trying to be set on a copy of a slice from a DataFrame.\r\n",
      "Try using .loc[row_indexer,col_indexer] = value instead\r\n",
      "\r\n",
      "See the caveats in the documentation: https://pandas.pydata.org/pandas-docs/stable/user_guide/indexing.html#returning-a-view-versus-a-copy\r\n",
      "  df_norm[\"category\"] = df_norm[\"category\"].replace(replace_dict)\r\n",
      "len_low_count: 20\r\n",
      "list_to_replace: 20\r\n",
      "/Users/sengopal/build/my-git/search_with_machine_learning_course/week3/create_labeled_queries.py:73: SettingWithCopyWarning: \r\n",
      "A value is trying to be set on a copy of a slice from a DataFrame.\r\n",
      "Try using .loc[row_indexer,col_indexer] = value instead\r\n",
      "\r\n",
      "See the caveats in the documentation: https://pandas.pydata.org/pandas-docs/stable/user_guide/indexing.html#returning-a-view-versus-a-copy\r\n",
      "  df_norm[\"category\"] = df_norm[\"category\"].replace(replace_dict)\r\n",
      "len_low_count: 4\r\n",
      "list_to_replace: 4\r\n",
      "/Users/sengopal/build/my-git/search_with_machine_learning_course/week3/create_labeled_queries.py:73: SettingWithCopyWarning: \r\n",
      "A value is trying to be set on a copy of a slice from a DataFrame.\r\n",
      "Try using .loc[row_indexer,col_indexer] = value instead\r\n",
      "\r\n",
      "See the caveats in the documentation: https://pandas.pydata.org/pandas-docs/stable/user_guide/indexing.html#returning-a-view-versus-a-copy\r\n",
      "  df_norm[\"category\"] = df_norm[\"category\"].replace(replace_dict)\r\n",
      "len_low_count: 0\r\n",
      "                    query_norm\r\n",
      "category                      \r\n",
      "abcat0100000             46211\r\n",
      "abcat0101001             80213\r\n",
      "abcat0102000             18033\r\n",
      "abcat0103000             10907\r\n",
      "abcat0200000             36181\r\n",
      "...                        ...\r\n",
      "pcmcat241600050001       24771\r\n",
      "pcmcat245100050028       28350\r\n",
      "pcmcat247400050000       79245\r\n",
      "pcmcat247400050001       27458\r\n",
      "pcmcat248700050021       20319\r\n",
      "\r\n",
      "[70 rows x 1 columns]\r\n"
     ]
    }
   ],
   "source": [
    "!python create_labeled_queries.py --min_queries 10000 --output '/Users/sengopal/build/my-git/search_with_machine_learning_course/datasets/labeled_query_data_min10000.txt'"
   ],
   "metadata": {
    "collapsed": false,
    "pycharm": {
     "name": "#%%\n"
    }
   }
  },
  {
   "cell_type": "code",
   "execution_count": 113,
   "outputs": [],
   "source": [
    "!shuf /Users/sengopal/build/my-git/search_with_machine_learning_course/datasets/labeled_query_data_min10000.txt > min10000_shuffled_labeled_query_data.txt\n",
    "!head -n 100000 min10000_shuffled_labeled_query_data.txt > min10000_labeled_query_training_data.txt\n",
    "!tail -n 10000 min10000_shuffled_labeled_query_data.txt > min10000_labeled_query_test_data.txt"
   ],
   "metadata": {
    "collapsed": false,
    "pycharm": {
     "name": "#%%\n"
    }
   }
  },
  {
   "cell_type": "code",
   "execution_count": 118,
   "outputs": [
    {
     "name": "stderr",
     "output_type": "stream",
     "text": [
      "Read 0M words\n",
      "Number of words:  12796\n",
      "Number of labels: 70\n",
      "Progress: 100.0% words/sec/thread:   87506 lr:  0.000000 avg.loss:  2.123806 ETA:   0h 0m 0s\n"
     ]
    },
    {
     "name": "stdout",
     "output_type": "stream",
     "text": [
      "(10000, 0.5875, 0.5875)\n",
      "(10000, 0.36195, 0.7239)\n",
      "(10000, 0.26176666666666665, 0.7853)\n"
     ]
    }
   ],
   "source": [
    "cat_classifier_v3 = fasttext.train_supervised(input=\"min10000_labeled_query_training_data.txt\", lr=0.6, epoch=100, wordNgrams=3)\n",
    "print(cat_classifier_v3.test(\"min10000_labeled_query_test_data.txt\", k = 1))\n",
    "print(cat_classifier_v3.test(\"min10000_labeled_query_test_data.txt\", k = 2))\n",
    "print(cat_classifier_v3.test(\"min10000_labeled_query_test_data.txt\", k = 3))"
   ],
   "metadata": {
    "collapsed": false,
    "pycharm": {
     "name": "#%%\n"
    }
   }
  },
  {
   "cell_type": "markdown",
   "source": [
    "#### To use more training data"
   ],
   "metadata": {
    "collapsed": false,
    "pycharm": {
     "name": "#%% md\n"
    }
   }
  },
  {
   "cell_type": "code",
   "execution_count": 120,
   "outputs": [
    {
     "name": "stdout",
     "output_type": "stream",
     "text": [
      " 1854998 min10000_shuffled_labeled_query_data.txt\r\n"
     ]
    }
   ],
   "source": [
    "!wc -l min10000_shuffled_labeled_query_data.txt"
   ],
   "metadata": {
    "collapsed": false,
    "pycharm": {
     "name": "#%%\n"
    }
   }
  },
  {
   "cell_type": "code",
   "execution_count": 121,
   "outputs": [],
   "source": [
    "!head -n 200000 min10000_shuffled_labeled_query_data.txt > min10000_labeled_query_training_data_large.txt"
   ],
   "metadata": {
    "collapsed": false,
    "pycharm": {
     "name": "#%%\n"
    }
   }
  },
  {
   "cell_type": "code",
   "execution_count": 124,
   "outputs": [
    {
     "name": "stderr",
     "output_type": "stream",
     "text": [
      "Read 0M words\n",
      "Number of words:  18860\n",
      "Number of labels: 70\n",
      "Progress: 100.0% words/sec/thread:   66581 lr:  0.000000 avg.loss:  1.740510 ETA:   0h 0m 0s 94.0% words/sec/thread:   66792 lr:  0.029768 avg.loss:  1.785331 ETA:   0h 0m 4s\n"
     ]
    },
    {
     "name": "stdout",
     "output_type": "stream",
     "text": [
      "(10000, 0.6093, 0.6093)\n",
      "(10000, 0.372, 0.744)\n",
      "(10000, 0.2687, 0.8061)\n"
     ]
    }
   ],
   "source": [
    "cat_classifier_v4 = fasttext.train_supervised(input=\"min10000_labeled_query_training_data_large.txt\", lr=0.5, epoch=100, wordNgrams=3)\n",
    "print(cat_classifier_v4.test(\"min10000_labeled_query_test_data.txt\", k = 1))\n",
    "print(cat_classifier_v4.test(\"min10000_labeled_query_test_data.txt\", k = 2))\n",
    "print(cat_classifier_v4.test(\"min10000_labeled_query_test_data.txt\", k = 3))"
   ],
   "metadata": {
    "collapsed": false,
    "pycharm": {
     "name": "#%%\n"
    }
   }
  },
  {
   "cell_type": "code",
   "execution_count": 126,
   "outputs": [
    {
     "name": "stderr",
     "output_type": "stream",
     "text": [
      "Read 0M words\n",
      "Number of words:  18860\n",
      "Number of labels: 70\n",
      "Progress: 100.0% words/sec/thread:   98973 lr: -0.000003 avg.loss:  1.530274 ETA:   0h 0m 0s 109370 lr:  0.176731 avg.loss:  1.910446 ETA:   0h 0m 7s"
     ]
    },
    {
     "name": "stdout",
     "output_type": "stream",
     "text": [
      "(10000, 0.609, 0.609)\n",
      "(10000, 0.3728, 0.7456)\n",
      "(10000, 0.26953333333333335, 0.8086)\n"
     ]
    },
    {
     "name": "stderr",
     "output_type": "stream",
     "text": [
      "Progress: 100.0% words/sec/thread:   98972 lr:  0.000000 avg.loss:  1.530274 ETA:   0h 0m 0s\n"
     ]
    }
   ],
   "source": [
    "cat_classifier_v5 = fasttext.train_supervised(input=\"min10000_labeled_query_training_data_large.txt\", lr=0.3, epoch=25, wordNgrams=3)\n",
    "print(cat_classifier_v5.test(\"min10000_labeled_query_test_data.txt\", k = 1))\n",
    "print(cat_classifier_v5.test(\"min10000_labeled_query_test_data.txt\", k = 2))\n",
    "print(cat_classifier_v5.test(\"min10000_labeled_query_test_data.txt\", k = 3))"
   ],
   "metadata": {
    "collapsed": false,
    "pycharm": {
     "name": "#%%\n"
    }
   }
  },
  {
   "cell_type": "code",
   "execution_count": 129,
   "outputs": [],
   "source": [
    "cat_classifier_v5.save_model(\"cat_classifier_v5.bin\")"
   ],
   "metadata": {
    "collapsed": false,
    "pycharm": {
     "name": "#%%\n"
    }
   }
  },
  {
   "cell_type": "markdown",
   "source": [],
   "metadata": {
    "collapsed": false,
    "pycharm": {
     "name": "#%% md\n"
    }
   }
  },
  {
   "cell_type": "markdown",
   "source": [
    "#### Task 1: Add the query classifier to query processing"
   ],
   "metadata": {
    "collapsed": false,
    "pycharm": {
     "name": "#%% md\n"
    }
   }
  },
  {
   "cell_type": "code",
   "execution_count": 150,
   "outputs": [
    {
     "data": {
      "text/plain": "(('__label__cat02015',\n  '__label__abcat0900000',\n  '__label__cat02001',\n  '__label__cat00000',\n  '__label__abcat0101001',\n  '__label__pcmcat247400050000',\n  '__label__cat02009',\n  '__label__cat09000',\n  '__label__cat02010',\n  '__label__abcat0302000',\n  '__label__abcat0100000',\n  '__label__pcmcat209400050001',\n  '__label__pcmcat245100050028',\n  '__label__abcat0700000',\n  '__label__abcat0200000',\n  '__label__pcmcat248700050021',\n  '__label__abcat0500000',\n  '__label__abcat0811002',\n  '__label__pcmcat144700050004',\n  '__label__abcat0207000'),\n array([0.26535127, 0.07556419, 0.05596664, 0.04775826, 0.03420277,\n        0.03417056, 0.03412051, 0.03156948, 0.02971699, 0.02065383,\n        0.01938056, 0.01817827, 0.01807952, 0.01767591, 0.01580442,\n        0.01431181, 0.01201295, 0.01123516, 0.01103844, 0.01099545]))"
     },
     "execution_count": 150,
     "metadata": {},
     "output_type": "execute_result"
    }
   ],
   "source": [
    "pred = cat_classifier_v5.predict(\"Apple iPhone\", k=20)\n",
    "pred"
   ],
   "metadata": {
    "collapsed": false,
    "pycharm": {
     "name": "#%%\n"
    }
   }
  },
  {
   "cell_type": "code",
   "execution_count": null,
   "outputs": [],
   "source": [],
   "metadata": {
    "collapsed": false,
    "pycharm": {
     "name": "#%%\n"
    }
   }
  }
 ],
 "metadata": {
  "kernelspec": {
   "display_name": "Python 3",
   "language": "python",
   "name": "python3"
  },
  "language_info": {
   "codemirror_mode": {
    "name": "ipython",
    "version": 2
   },
   "file_extension": ".py",
   "mimetype": "text/x-python",
   "name": "python",
   "nbconvert_exporter": "python",
   "pygments_lexer": "ipython2",
   "version": "2.7.6"
  }
 },
 "nbformat": 4,
 "nbformat_minor": 0
}