{
 "cells": [
  {
   "cell_type": "code",
   "execution_count": 1,
   "outputs": [
    {
     "name": "stdout",
     "output_type": "stream",
     "text": [
      "user,sku,category,query,click_time,query_time\r\n",
      "000000df17cd56a5df4a94074e133c9d4739fae3,2125233,abcat0101001,\"Televisiones Panasonic  50 pulgadas\",\"2011-09-01 23:44:52.533\",\"2011-09-01 23:43:59.752\"\r\n",
      "000001928162247ffaf63185cd8b2a244c78e7c6,2009324,abcat0101001,Sharp,\"2011-09-05 12:25:37.42\",\"2011-09-05 12:25:01.187\"\r\n",
      "000017f79c2b5da56721f22f9fdd726b13daf8e8,1517163,pcmcat193100050014,nook,\"2011-08-24 12:56:58.91\",\"2011-08-24 12:55:13.012\"\r\n",
      "000017f79c2b5da56721f22f9fdd726b13daf8e8,2877125,abcat0101001,rca,\"2011-10-25 07:18:14.722\",\"2011-10-25 07:16:51.759\"\r\n",
      "000017f79c2b5da56721f22f9fdd726b13daf8e8,2877134,abcat0101005,rca,\"2011-10-25 07:19:51.697\",\"2011-10-25 07:16:51.759\"\r\n",
      "00001ff8394a2d9bd7adffb1547180bf5bbfc4e5,2416092,pcmcat143200050016,\"Flat screen tvs\",\"2011-09-07 15:54:47.956\",\"2011-09-07 15:53:24.353\"\r\n",
      "000027e2f86b55c901882a9d47ac7feec964825d,3108172,pcmcat247400050001,macbook,\"2011-09-25 11:07:02.603\",\"2011-09-25 11:05:26.996\"\r\n",
      "0000323223cd657f7e063ddb83f32b332d46e920,2264036,pcmcat171900050028,\"Blue tooth headphones\",\"2011-09-23 12:40:20.871\",\"2011-09-23 12:40:14.845\"\r\n",
      "00003cb3f85244c652f22c1daf11aed35d5ab7f6,8280834,abcat0107004,\"Tv antenna\",\"2011-08-29 13:37:32.903\",\"2011-08-29 13:33:23.249\"\r\n"
     ]
    }
   ],
   "source": [
    "!head ../datasets/train.csv"
   ],
   "metadata": {
    "collapsed": false,
    "pycharm": {
     "name": "#%%\n"
    }
   }
  },
  {
   "cell_type": "code",
   "execution_count": 2,
   "outputs": [
    {
     "name": "stdout",
     "output_type": "stream",
     "text": [
      "category\r\n",
      "abcat0101001\r\n",
      "abcat0101001\r\n",
      "pcmcat193100050014\r\n",
      "abcat0101001\r\n",
      "abcat0101005\r\n",
      "pcmcat143200050016\r\n",
      "pcmcat247400050001\r\n",
      "pcmcat171900050028\r\n",
      "abcat0107004\r\n"
     ]
    }
   ],
   "source": [
    "!head ../datasets/train.csv | cut -d , -f3"
   ],
   "metadata": {
    "collapsed": false,
    "pycharm": {
     "name": "#%%\n"
    }
   }
  },
  {
   "cell_type": "code",
   "execution_count": 3,
   "outputs": [
    {
     "name": "stdout",
     "output_type": "stream",
     "text": [
      "Best Buy > TV & Home Theater > TVs\r\n",
      "Best Buy > TV & Home Theater > TVs\r\n",
      "Best Buy > Computers & Tablets > E-Readers\r\n",
      "Best Buy > TV & Home Theater > TVs\r\n",
      "Best Buy > TV & Home Theater > TVs\r\n",
      "Best Buy > Magnolia Home Theater > Televisions\r\n",
      "Best Buy > Computers & Tablets > Laptop & Netbook Computers\r\n",
      "Best Buy > Mobile Phones > Mobile Phone Accessories\r\n",
      "Best Buy > TV & Home Theater > TVs\r\n"
     ]
    }
   ],
   "source": [
    "!head ../datasets/train.csv | cut -d , -f3 | python leavesToPaths.py --max_depth 3"
   ],
   "metadata": {
    "collapsed": false,
    "pycharm": {
     "name": "#%%\n"
    }
   }
  },
  {
   "cell_type": "code",
   "execution_count": 4,
   "outputs": [
    {
     "name": "stdout",
     "output_type": "stream",
     "text": [
      "Best Buy\r\n",
      "Best Buy > Appcessories™\r\n",
      "Best Buy > Appliance Install Delivery Repair\r\n",
      "Best Buy > Appliances\r\n",
      "Best Buy > Audio & MP3\r\n",
      "Best Buy > Best Buy For Business\r\n",
      "Best Buy > Best Buy Gift Cards\r\n",
      "Best Buy > Buy Back Program\r\n",
      "Best Buy > Cameras & Camcorders\r\n",
      "Best Buy > Car, Marine & GPS\r\n",
      "Best Buy > Computers & Tablets\r\n",
      "Best Buy > Customer Service\r\n",
      "Best Buy > Deal of the Day\r\n",
      "Best Buy > Deals Near Me\r\n",
      "Best Buy > Featured Offers\r\n",
      "Best Buy > Financing and Rewards\r\n",
      "Best Buy > Geek Squad\r\n",
      "Best Buy > Geek Squad Protection\r\n",
      "Best Buy > Gift Center\r\n",
      "Best Buy > Health, Fitness & Sports\r\n",
      "Best Buy > Home\r\n",
      "Best Buy > Magnolia Home Theater\r\n",
      "Best Buy > Mobile Phones\r\n",
      "Best Buy > Movies & Music\r\n",
      "Best Buy > Musical Instruments\r\n",
      "Best Buy > Name Brands\r\n",
      "Best Buy > Office\r\n",
      "Best Buy > Online Trade In\r\n",
      "Best Buy > Outlet Center\r\n",
      "Best Buy > Recycling\r\n",
      "Best Buy > TV & Home Theater\r\n",
      "Best Buy > Video Games\r\n",
      "Best Buy > pc app Downloads\r\n"
     ]
    }
   ],
   "source": [
    "!python ../utilities/categoryViewer.py --max_depth 2"
   ],
   "metadata": {
    "collapsed": false,
    "pycharm": {
     "name": "#%%\n"
    }
   }
  },
  {
   "cell_type": "code",
   "execution_count": 7,
   "outputs": [
    {
     "name": "stdout",
     "output_type": "stream",
     "text": [
      "Best Buy > Computers & Tablets > Laptop & Netbook Computers\r\n"
     ]
    }
   ],
   "source": [
    "!echo \"pcmcat247400050001\" | python leavesToPaths.py --max_depth 3"
   ],
   "metadata": {
    "collapsed": false,
    "pycharm": {
     "name": "#%%\n"
    }
   }
  },
  {
   "cell_type": "code",
   "execution_count": 5,
   "outputs": [
    {
     "name": "stdout",
     "output_type": "stream",
     "text": [
      "Best Buy > TV & Home Theater > TVs\r\n",
      "Best Buy > TV & Home Theater > TVs\r\n",
      "Best Buy > Computers & Tablets > E-Readers\r\n",
      "Best Buy > TV & Home Theater > TVs\r\n",
      "Best Buy > TV & Home Theater > TVs\r\n",
      "Best Buy > Magnolia Home Theater > Televisions\r\n",
      "Best Buy > Computers & Tablets > Laptop & Netbook Computers\r\n",
      "Best Buy > Mobile Phones > Mobile Phone Accessories\r\n",
      "Best Buy > TV & Home Theater > TVs\r\n"
     ]
    }
   ],
   "source": [
    "!head ../datasets/train.csv | cut -d , -f3 | python leavesToPaths.py --max_depth 3"
   ],
   "metadata": {
    "collapsed": false,
    "pycharm": {
     "name": "#%%\n"
    }
   }
  },
  {
   "cell_type": "code",
   "execution_count": 6,
   "outputs": [
    {
     "name": "stdout",
     "output_type": "stream",
     "text": [
      "Best Buy\r\n",
      "Best Buy > Appcessories™\r\n",
      "Best Buy > Appliance Install Delivery Repair\r\n",
      "Best Buy > Appliances\r\n",
      "Best Buy > Audio & MP3\r\n",
      "Best Buy > Best Buy For Business\r\n",
      "Best Buy > Best Buy Gift Cards\r\n",
      "Best Buy > Buy Back Program\r\n",
      "Best Buy > Cameras & Camcorders\r\n",
      "Best Buy > Car, Marine & GPS\r\n",
      "Best Buy > Computers & Tablets\r\n",
      "Best Buy > Customer Service\r\n",
      "Best Buy > Deal of the Day\r\n",
      "Best Buy > Deals Near Me\r\n",
      "Best Buy > Featured Offers\r\n",
      "Best Buy > Financing and Rewards\r\n",
      "Best Buy > Geek Squad\r\n",
      "Best Buy > Geek Squad Protection\r\n",
      "Best Buy > Gift Center\r\n",
      "Best Buy > Health, Fitness & Sports\r\n",
      "Best Buy > Home\r\n",
      "Best Buy > Magnolia Home Theater\r\n",
      "Best Buy > Mobile Phones\r\n",
      "Best Buy > Movies & Music\r\n",
      "Best Buy > Musical Instruments\r\n",
      "Best Buy > Name Brands\r\n",
      "Best Buy > Office\r\n",
      "Best Buy > Online Trade In\r\n",
      "Best Buy > Outlet Center\r\n",
      "Best Buy > Recycling\r\n",
      "Best Buy > TV & Home Theater\r\n",
      "Best Buy > Video Games\r\n",
      "Best Buy > pc app Downloads\r\n"
     ]
    }
   ],
   "source": [
    "!python ../utilities/categoryViewer.py --max_depth 2"
   ],
   "metadata": {
    "collapsed": false,
    "pycharm": {
     "name": "#%%\n"
    }
   }
  },
  {
   "cell_type": "code",
   "execution_count": 8,
   "outputs": [
    {
     "name": "stdout",
     "output_type": "stream",
     "text": [
      "Best Buy > Computers & Tablets > Tablets & iPad\r\n",
      "Best Buy > Computers & Tablets > Tablets & iPad\r\n",
      "Best Buy > Computers & Tablets > Tablets & iPad\r\n",
      "Best Buy > Computers & Tablets > Tablets & iPad\r\n",
      "Best Buy > Computers & Tablets > Tablets & iPad\r\n",
      "Best Buy > Computers & Tablets > Tablets & iPad\r\n",
      "Best Buy > Computers & Tablets > Tablets & iPad\r\n",
      "Best Buy > Computers & Tablets > Tablets & iPad\r\n",
      "Best Buy > Computers & Tablets > Tablets & iPad\r\n",
      "Best Buy > Computers & Tablets > Tablets & iPad\r\n",
      "Traceback (most recent call last):\r\n",
      "  File \"/Users/sengopal/build/my-git/search_with_machine_learning_course/week3/leavesToPaths.py\", line 43, in <module>\r\n",
      "    print(catDict[cat])\r\n",
      "BrokenPipeError: [Errno 32] Broken pipe\r\n",
      "Exception ignored in: <_io.TextIOWrapper name='<stdout>' mode='w' encoding='utf-8'>\r\n",
      "BrokenPipeError: [Errno 32] Broken pipe\r\n"
     ]
    }
   ],
   "source": [
    "!grep touchpad ../datasets/train.csv | cut -d , -f3 | python leavesToPaths.py --max_depth 3 | head"
   ],
   "metadata": {
    "collapsed": false,
    "pycharm": {
     "name": "#%%\n"
    }
   }
  },
  {
   "cell_type": "code",
   "execution_count": 9,
   "outputs": [
    {
     "name": "stdout",
     "output_type": "stream",
     "text": [
      "   1 Best Buy > Appliances > Air Conditioners, Fans & Heaters\r\n",
      "   2 Best Buy > Appliances > Batteries & Power\r\n",
      "  10 Best Buy > Appliances > Fitness\r\n",
      "   1 Best Buy > Appliances > Freezers & Ice Makers\r\n",
      "   1 Best Buy > Appliances > Microwaves\r\n",
      "   1 Best Buy > Appliances > Ranges & Ovens\r\n",
      "  33 Best Buy > Appliances > Small Appliances\r\n",
      "   1 Best Buy > Audio & MP3 > Audio Accessories\r\n",
      "   2 Best Buy > Audio & MP3 > Audio Stands & Storage\r\n",
      "   7 Best Buy > Audio & MP3 > Car Audio\r\n"
     ]
    }
   ],
   "source": [
    "!grep touchpad ../datasets/train.csv | cut -d , -f3 | python leavesToPaths.py --max_depth 3 | sort | uniq -c | head"
   ],
   "metadata": {
    "collapsed": false,
    "pycharm": {
     "name": "#%%\n"
    }
   }
  },
  {
   "cell_type": "code",
   "execution_count": 10,
   "outputs": [
    {
     "name": "stdout",
     "output_type": "stream",
     "text": [
      "17995 Best Buy > Computers & Tablets > Tablets & iPad\r\n",
      " 166 Best Buy > Computers & Tablets > Laptop & Netbook Computers\r\n",
      "  70 Best Buy > Computers & Tablets > E-Readers\r\n",
      "  61 Best Buy > Computers & Tablets > Mice & Keyboards\r\n",
      "  34 Best Buy > TV & Home Theater > TVs\r\n",
      "  33 Best Buy > Appliances > Small Appliances\r\n",
      "  24 Best Buy > Movies & Music > Movies & TV Shows\r\n",
      "  14 Best Buy > Computers & Tablets > Desktop & All-in-One Computers\r\n",
      "  13 Best Buy > Mobile Phones > All Mobile Phones with Plans\r\n",
      "  13 Best Buy > Computers & Tablets > Hard Drives\r\n"
     ]
    }
   ],
   "source": [
    "!grep touchpad ../datasets/train.csv | cut -d , -f3 | python leavesToPaths.py --max_depth 3 | sort | uniq -c | sort -nr | head"
   ],
   "metadata": {
    "collapsed": false,
    "pycharm": {
     "name": "#%%\n"
    }
   }
  },
  {
   "cell_type": "code",
   "execution_count": 2,
   "outputs": [],
   "source": [
    "from opensearchpy import OpenSearch\n",
    "host = 'localhost'\n",
    "port = 9200\n",
    "auth = ('admin', 'admin')\n",
    "base_url = \"http://{}:{}/\".format(host, port)\n",
    "opensearch = OpenSearch(\n",
    "    hosts=[{'host': host, 'port': port}],\n",
    "    http_compress=True,  # enables gzip compression for request bodies\n",
    "    http_auth=auth,\n",
    "    # client_cert = client_cert_path,\n",
    "    # client_key = client_key_path,\n",
    "    use_ssl=True,\n",
    "    verify_certs=False,  # set to true if you have certs\n",
    "    ssl_assert_hostname=False,\n",
    "    ssl_show_warn=False,\n",
    ")"
   ],
   "metadata": {
    "collapsed": false,
    "pycharm": {
     "name": "#%%\n"
    }
   }
  },
  {
   "cell_type": "code",
   "execution_count": 3,
   "outputs": [
    {
     "data": {
      "text/plain": "{'took': 731,\n 'timed_out': False,\n '_shards': {'total': 1, 'successful': 1, 'skipped': 0, 'failed': 0},\n 'hits': {'total': {'value': 10000, 'relation': 'gte'},\n  'max_score': None,\n  'hits': []},\n 'aggregations': {'Query': {'doc_count_error_upper_bound': 0,\n   'sum_other_doc_count': 1797068,\n   'buckets': [{'key': 'lcd tv',\n     'doc_count': 16522,\n     'Docs': {'doc_count_error_upper_bound': 0,\n      'sum_other_doc_count': 293,\n      'buckets': [{'key': 'abcat0101001', 'doc_count': 16138},\n       {'key': 'cat02015', 'doc_count': 91}]}},\n    {'key': '2622037 2127204 2127213 2121716 2138291',\n     'doc_count': 8531,\n     'Docs': {'doc_count_error_upper_bound': 0,\n      'sum_other_doc_count': 3266,\n      'buckets': [{'key': 'abcat0101001', 'doc_count': 4696},\n       {'key': 'pcmcat247400050000', 'doc_count': 569}]}},\n    {'key': 'Hp touchpad',\n     'doc_count': 7390,\n     'Docs': {'doc_count_error_upper_bound': 0,\n      'sum_other_doc_count': 488,\n      'buckets': [{'key': 'pcmcat209000050008', 'doc_count': 6786},\n       {'key': 'pcmcat242000050005', 'doc_count': 116}]}},\n    {'key': 'iPad',\n     'doc_count': 5803,\n     'Docs': {'doc_count_error_upper_bound': 0,\n      'sum_other_doc_count': 1327,\n      'buckets': [{'key': 'pcmcat209000050007', 'doc_count': 3773},\n       {'key': 'pcmcat209000050008', 'doc_count': 703}]}},\n    {'key': 'hp touchpad',\n     'doc_count': 5615,\n     'Docs': {'doc_count_error_upper_bound': 0,\n      'sum_other_doc_count': 440,\n      'buckets': [{'key': 'pcmcat209000050008', 'doc_count': 5053},\n       {'key': 'pcmcat242000050005', 'doc_count': 122}]}},\n    {'key': 'iPhone 4s',\n     'doc_count': 5400,\n     'Docs': {'doc_count_error_upper_bound': 0,\n      'sum_other_doc_count': 492,\n      'buckets': [{'key': 'pcmcat209400050001', 'doc_count': 4729},\n       {'key': 'pcmcat171900050029', 'doc_count': 179}]}},\n    {'key': 'ipad',\n     'doc_count': 5036,\n     'Docs': {'doc_count_error_upper_bound': 0,\n      'sum_other_doc_count': 1135,\n      'buckets': [{'key': 'pcmcat209000050007', 'doc_count': 3128},\n       {'key': 'pcmcat209000050008', 'doc_count': 773}]}},\n    {'key': 'Beats',\n     'doc_count': 4805,\n     'Docs': {'doc_count_error_upper_bound': 0,\n      'sum_other_doc_count': 887,\n      'buckets': [{'key': 'pcmcat144700050004', 'doc_count': 3204},\n       {'key': 'pcmcat143000050007', 'doc_count': 714}]}},\n    {'key': 'Touchpad',\n     'doc_count': 4668,\n     'Docs': {'doc_count_error_upper_bound': 0,\n      'sum_other_doc_count': 324,\n      'buckets': [{'key': 'pcmcat209000050008', 'doc_count': 4263},\n       {'key': 'pcmcat242000050002', 'doc_count': 81}]}},\n    {'key': 'LaborDay_Computers_20110902',\n     'doc_count': 4428,\n     'Docs': {'doc_count_error_upper_bound': 0,\n      'sum_other_doc_count': 1892,\n      'buckets': [{'key': 'pcmcat247400050000', 'doc_count': 2267},\n       {'key': 'pcmcat209000050008', 'doc_count': 269}]}}]}}}"
     },
     "execution_count": 3,
     "metadata": {},
     "output_type": "execute_result"
    }
   ],
   "source": [
    "query_obj = {\n",
    "  \"size\": 0,\n",
    "  \"aggs\": {\n",
    "    \"Query\": {\n",
    "\n",
    "      \"terms\": {\n",
    "        \"size\": 10,\n",
    "        \"field\": \"query.keyword\"\n",
    "      },\n",
    "      \"aggs\":{\n",
    "        \"Docs\":{\n",
    "          \"terms\":{\n",
    "            \"size\": 2,\n",
    "            \"field\": \"category.keyword\"\n",
    "          }\n",
    "        }\n",
    "      }\n",
    "    }\n",
    "  }\n",
    "}\n",
    "response = opensearch.search(query_obj, index='bbuy_queries')\n",
    "response"
   ],
   "metadata": {
    "collapsed": false,
    "pycharm": {
     "name": "#%%\n"
    }
   }
  },
  {
   "cell_type": "code",
   "execution_count": null,
   "outputs": [],
   "source": [],
   "metadata": {
    "collapsed": false,
    "pycharm": {
     "name": "#%%\n"
    }
   }
  }
 ],
 "metadata": {
  "kernelspec": {
   "display_name": "Python 3",
   "language": "python",
   "name": "python3"
  },
  "language_info": {
   "codemirror_mode": {
    "name": "ipython",
    "version": 2
   },
   "file_extension": ".py",
   "mimetype": "text/x-python",
   "name": "python",
   "nbconvert_exporter": "python",
   "pygments_lexer": "ipython2",
   "version": "2.7.6"
  }
 },
 "nbformat": 4,
 "nbformat_minor": 0
}